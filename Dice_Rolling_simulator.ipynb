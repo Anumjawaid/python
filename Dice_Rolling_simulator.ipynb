{
 "cells": [
  {
   "cell_type": "code",
   "execution_count": 1,
   "metadata": {},
   "outputs": [],
   "source": [
    "import random as rd"
   ]
  },
  {
   "cell_type": "code",
   "execution_count": 3,
   "metadata": {},
   "outputs": [],
   "source": [
    "#diceface\n",
    "def dice():\n",
    "    a=rd.randint(1,6)\n",
    "    if a==1:\n",
    "        print(\"        [--------]\")\n",
    "        print(\"        [        ]\")\n",
    "        print(\"        [    *   ]\")\n",
    "        print(\"        [        ]\")\n",
    "        print(\"        [--------]\")\n",
    "    elif a==2:\n",
    "        print(\"        [--------]\")\n",
    "        print(\"        [        ]\")\n",
    "        print(\"        [   **   ]\")\n",
    "        print(\"        [        ]\")\n",
    "        print(\"        [--------]\")\n",
    "    elif a==3:\n",
    "        print(\"        [--------]\")\n",
    "        print(\"        [   *    ]\")\n",
    "        print(\"        [   *    ]\")\n",
    "        print(\"        [   *    ]\")\n",
    "        print(\"        [--------]\")\n",
    "    elif a==4:\n",
    "        print(\"        [--------]\")\n",
    "        print(\"        [*      *]\")\n",
    "        print(\"        [        ]\")\n",
    "        print(\"        [*      *]\")\n",
    "        print(\"        [--------]\")\n",
    "            \n",
    "    elif a==5:\n",
    "        print(\"        [--------]\")\n",
    "        print(\"        [*      *]\")\n",
    "        print(\"        [    *   ]\")\n",
    "        print(\"        [*      *]\")\n",
    "        print(\"        [--------]\")\n",
    "    elif a==6:\n",
    "        print(\"        [--------]\")\n",
    "        print(\"        [*      *]\")\n",
    "        print(\"        [*      *]\")\n",
    "        print(\"        [*      *]\")\n",
    "        print(\"        [--------]\")\n"
   ]
  },
  {
   "cell_type": "code",
   "execution_count": 5,
   "metadata": {},
   "outputs": [
    {
     "name": "stdout",
     "output_type": "stream",
     "text": [
      "      ROLL THE DICE\n",
      "Want To play \n",
      "If yes y else n:y\n",
      "        [--------]\n",
      "        [*      *]\n",
      "        [        ]\n",
      "        [*      *]\n",
      "        [--------]\n",
      "Want To play More \n",
      "If yes y else n:y\n",
      "        [--------]\n",
      "        [   *    ]\n",
      "        [   *    ]\n",
      "        [   *    ]\n",
      "        [--------]\n",
      "Want To play More \n",
      "If yes y else n:y\n",
      "        [--------]\n",
      "        [        ]\n",
      "        [    *   ]\n",
      "        [        ]\n",
      "        [--------]\n",
      "Want To play More \n",
      "If yes y else n:n\n",
      "      GAME END\n"
     ]
    }
   ],
   "source": [
    "print(\"      ROLL THE DICE\")\n",
    "n=input(\"Want To play \\nIf yes y else n:\")\n",
    "while n=='y'or n=='Y':\n",
    "    dice()\n",
    "    n=input(\"Want To play More \\nIf yes y else n:\")\n",
    "print(\"      GAME END\")\n",
    "    "
   ]
  },
  {
   "cell_type": "code",
   "execution_count": null,
   "metadata": {},
   "outputs": [],
   "source": []
  },
  {
   "cell_type": "code",
   "execution_count": null,
   "metadata": {},
   "outputs": [],
   "source": []
  }
 ],
 "metadata": {
  "kernelspec": {
   "display_name": "Python 3",
   "language": "python",
   "name": "python3"
  },
  "language_info": {
   "codemirror_mode": {
    "name": "ipython",
    "version": 3
   },
   "file_extension": ".py",
   "mimetype": "text/x-python",
   "name": "python",
   "nbconvert_exporter": "python",
   "pygments_lexer": "ipython3",
   "version": "3.6.5"
  }
 },
 "nbformat": 4,
 "nbformat_minor": 2
}
