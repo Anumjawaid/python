{
 "cells": [
  {
   "cell_type": "markdown",
   "metadata": {},
   "source": [
    "### Depth First Search"
   ]
  },
  {
   "cell_type": "code",
   "execution_count": 7,
   "metadata": {},
   "outputs": [
    {
     "name": "stdout",
     "output_type": "stream",
     "text": [
      "The graph\n",
      "      A\n",
      "     // \\\n",
      "     B   C\n",
      "    / \\  |\n",
      "    D  E |\n",
      "     \\   /      \n",
      "       F   \n",
      "The nodes to be Visited After root node A\n",
      "A\n",
      "B\n",
      "D\n",
      "E\n",
      "F\n",
      "C\n"
     ]
    }
   ],
   "source": [
    "graphs={\n",
    "    'A':['B','C'],\n",
    "    'B':['D','E'],\n",
    "    'C':['F'],\n",
    "    'D':[],\n",
    "    'E':['F'],\n",
    "    'F':[]\n",
    "\n",
    "}\n",
    "branches=list()\n",
    "\n",
    "#visiting function\n",
    "def roam(branches,land,node):\n",
    "    if node not in branches:\n",
    "        print(node)\n",
    "        branches.append(node)\n",
    "        for nex in land[node]:\n",
    "            roam(branches,land,nex)\n",
    "\n",
    "print(\"The graph\")\n",
    "print(\"      A\")\n",
    "print(\"     // \\\\\")\n",
    "print(\"     B   C\")\n",
    "print(\"    / \\  |\")\n",
    "print(\"    D  E |\")\n",
    "print(\"     \\   /      \")\n",
    "print(\"       F   \")\n",
    "print(\"The nodes to be Visited After root node A\")\n",
    "\n",
    "roam(branches,graphs,'A')"
   ]
  },
  {
   "cell_type": "markdown",
   "metadata": {},
   "source": [
    "### Breadth First Search\n"
   ]
  },
  {
   "cell_type": "code",
   "execution_count": 8,
   "metadata": {},
   "outputs": [
    {
     "name": "stdout",
     "output_type": "stream",
     "text": [
      "Visited [0, 1, 2, 3, 4, 5, 6]\n"
     ]
    }
   ],
   "source": [
    "vc=['0','1','2','3','4','5','6']\n",
    "ec=[(0,1),(0,2),(1,0),(1,3),(2,0),(2,4),(2,5),(3,1),(4,2),(4,6),(5,2),(6,4)]\n",
    "graphs=(vc,ec)\n",
    "def roam(graph,start):\n",
    "    vc,ec=graph\n",
    "    vsc=[]\n",
    "    queue=[start]\n",
    "    ac=[[] for vertex in vc]\n",
    "    for edge in ec:\n",
    "        ac[edge[0]].append(edge[1])\n",
    "        \n",
    "    while queue:\n",
    "        cc=queue.pop()\n",
    "        for n in ac[cc]:\n",
    "            if not  n in vsc:\n",
    "                queue.insert(0,n)\n",
    "        vsc.append(cc)\n",
    "    return vsc\n",
    "\n",
    "print(\"Visited\",roam(graphs,0))"
   ]
  },
  {
   "cell_type": "code",
   "execution_count": null,
   "metadata": {},
   "outputs": [],
   "source": []
  }
 ],
 "metadata": {
  "kernelspec": {
   "display_name": "Python 3",
   "language": "python",
   "name": "python3"
  },
  "language_info": {
   "codemirror_mode": {
    "name": "ipython",
    "version": 3
   },
   "file_extension": ".py",
   "mimetype": "text/x-python",
   "name": "python",
   "nbconvert_exporter": "python",
   "pygments_lexer": "ipython3",
   "version": "3.6.5"
  }
 },
 "nbformat": 4,
 "nbformat_minor": 2
}
