{
 "cells": [
  {
   "cell_type": "markdown",
   "metadata": {},
   "source": [
    "# Array(list) element in one line"
   ]
  },
  {
   "cell_type": "code",
   "execution_count": 1,
   "metadata": {},
   "outputs": [
    {
     "name": "stdout",
     "output_type": "stream",
     "text": [
      "5\n",
      "5 4 3 2 1\n",
      "1 2 3 4 5 "
     ]
    }
   ],
   "source": [
    "n = int(input())\n",
    "\n",
    "arr = list(map(int, input().rstrip().split()))\n",
    "c=n//2   \n",
    "for b in range(c):\n",
    "    arr[b],arr[n-(b+1)]=arr[n-(b+1)],arr[b]\n",
    "#for printing in one line\n",
    "for i in arr:\n",
    "    print(i,end=' ')\n"
   ]
  },
  {
   "cell_type": "markdown",
   "metadata": {},
   "source": [
    "# The above function in oneline "
   ]
  },
  {
   "cell_type": "code",
   "execution_count": 2,
   "metadata": {},
   "outputs": [
    {
     "name": "stdout",
     "output_type": "stream",
     "text": [
      "5\n",
      "1 2 3 4 5\n",
      "5 4 3 2 1\n"
     ]
    }
   ],
   "source": [
    "n = int(input())\n",
    "\n",
    "arr = list(map(int, input().rstrip().split()))\n",
    "print(\" \".join(map(str, arr[::-1])))"
   ]
  },
  {
   "cell_type": "markdown",
   "metadata": {},
   "source": [
    "# In the form of list"
   ]
  },
  {
   "cell_type": "code",
   "execution_count": 14,
   "metadata": {},
   "outputs": [],
   "source": [
    "a=[5,6,7,8,9,0]"
   ]
  },
  {
   "cell_type": "code",
   "execution_count": 16,
   "metadata": {},
   "outputs": [
    {
     "name": "stdout",
     "output_type": "stream",
     "text": [
      "[0, 9, 8, 7, 6, 5]\n"
     ]
    }
   ],
   "source": [
    "c=len(a)\n",
    "for b in range(c//2):#0,3\n",
    "    '''#d[b]=a[:(c-(b+1))] #1,2\n",
    "    #t=a[c-(b+1)]\n",
    "    #a[b]=a[c-(b+1)]'''\n",
    "   # print(b)\n",
    "   # '''n = a[c-(b+1)]\n",
    "    #a[c-(b+1)] = a[b];\n",
    "    #a[b] = n;'''\n",
    "    a[b],a[c-(b+1)]=a[c-(b+1)],a[b]\n",
    "print(a)\n"
   ]
  },
  {
   "cell_type": "code",
   "execution_count": 6,
   "metadata": {},
   "outputs": [
    {
     "name": "stdout",
     "output_type": "stream",
     "text": [
      "0\n",
      "1\n",
      "2\n",
      "[0, 9, 8, 7, 6, 5]\n"
     ]
    }
   ],
   "source": [
    "a=[5,6,7,8,9,0]\n",
    "c=len(a)\n",
    "\n",
    "for b in range(c//2):#0,3\n",
    "    '''d[b]=a[:(c-(b+1))] #1,2\n",
    "    t=a[c-(b+1)]\n",
    "    a[b]=a[c-(b+1)]'''\n",
    "    print(b)\n",
    "    '''n = a[c-(b+1)]\n",
    "    a[c-(b+1)] = a[b];\n",
    "    a[b] = n;'''\n",
    "    a[b],a[c-(b+1)]=a[c-(b+1)],a[b]\n",
    "print(a)\n"
   ]
  },
  {
   "cell_type": "code",
   "execution_count": null,
   "metadata": {},
   "outputs": [],
   "source": []
  }
 ],
 "metadata": {
  "kernelspec": {
   "display_name": "Python 3",
   "language": "python",
   "name": "python3"
  },
  "language_info": {
   "codemirror_mode": {
    "name": "ipython",
    "version": 3
   },
   "file_extension": ".py",
   "mimetype": "text/x-python",
   "name": "python",
   "nbconvert_exporter": "python",
   "pygments_lexer": "ipython3",
   "version": "3.6.5"
  }
 },
 "nbformat": 4,
 "nbformat_minor": 2
}
