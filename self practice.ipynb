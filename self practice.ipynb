{
 "cells": [
  {
   "cell_type": "code",
   "execution_count": null,
   "metadata": {},
   "outputs": [],
   "source": [
    "import numpy as np\n",
    "import pandas as pd\n",
    "df_aq = pd.read_csv('aq.csv',parse_dates=['local_time'])\n",
    "df_aq = df_aq.set_index('local_time')\n",
    "df_aq.head()"
   ]
  },
  {
   "cell_type": "code",
   "execution_count": null,
   "metadata": {},
   "outputs": [],
   "source": [
    "df_aq=pd.read_csv(\"aq.csv\")\n",
    "df_aq = df_aq.set_index('local_time')\n",
    "\n",
    "df_aq.head()"
   ]
  },
  {
   "cell_type": "code",
   "execution_count": null,
   "metadata": {},
   "outputs": [],
   "source": [
    "# Import the necessary libraries\n",
    "import matplotlib.pyplot as plt\n",
    "import pandas as pd\n",
    "\n",
    "# Initialize Figure and Axes object\n",
    "fig, ax = plt.subplots()\n",
    "\n",
    "# Load in data\n",
    "#tips = pd.read_csv(\"https://raw.githubusercontent.com/mwaskom/seaborn-data/master/tips.csv\")\n",
    "tips = pd.read_csv(\"aq.csv\")\n",
    "\n",
    "\n",
    "# Create violinplot\n",
    "ax.violinplot(tips[\"weekday\"], vert=False)\n",
    "\n",
    "# Show the plot\n",
    "plt.show()"
   ]
  },
  {
   "cell_type": "code",
   "execution_count": null,
   "metadata": {},
   "outputs": [],
   "source": []
  },
  {
   "cell_type": "code",
   "execution_count": null,
   "metadata": {},
   "outputs": [],
   "source": [
    "def oddnumber(n):\n",
    "    i=1\n",
    "    while i !=n:\n",
    "        if i%2!=0:\n",
    "            print(i)\n",
    "        else:\n",
    "            pass\n",
    "        \n",
    "        "
   ]
  },
  {
   "cell_type": "code",
   "execution_count": 14,
   "metadata": {},
   "outputs": [],
   "source": [
    "a=[]\n",
    "def primenumber(n):\n",
    "    a=[]\n",
    "    for i in range(2,n):\n",
    "        if i % 2 !=0 or i==2:\n",
    "            \n",
    "            a.append(i)\n",
    "        else:\n",
    "            pass\n",
    "   \n",
    "    print(a)    \n",
    "        "
   ]
  },
  {
   "cell_type": "code",
   "execution_count": 15,
   "metadata": {},
   "outputs": [
    {
     "name": "stdout",
     "output_type": "stream",
     "text": [
      "[2, 3, 5, 7]\n"
     ]
    }
   ],
   "source": [
    "primenumber(9)\n"
   ]
  },
  {
   "cell_type": "code",
   "execution_count": 30,
   "metadata": {},
   "outputs": [
    {
     "name": "stdout",
     "output_type": "stream",
     "text": [
      "Enter the number :9\n",
      "2 3 5 7 "
     ]
    }
   ],
   "source": [
    "#prime numbers\n",
    "n=int(input(\"Enter the number :\"))\n",
    "a=[]\n",
    "for i in range(2,n):\n",
    "    #a=[]\n",
    "    if i%2!=0 or i==2:\n",
    "         print(i,end=' ')\n",
    "    else:\n",
    "        pass\n",
    "    \n",
    "\n",
    "    "
   ]
  },
  {
   "cell_type": "markdown",
   "metadata": {},
   "source": []
  },
  {
   "cell_type": "code",
   "execution_count": 14,
   "metadata": {},
   "outputs": [],
   "source": [
    "class Man():\n",
    "    name=\"unknown\"\n",
    "    age=\"unknown\"\n",
    "    def val(self):\n",
    "        print(self.name)\n",
    "        print(self.age)"
   ]
  },
  {
   "cell_type": "code",
   "execution_count": 18,
   "metadata": {},
   "outputs": [
    {
     "name": "stdout",
     "output_type": "stream",
     "text": [
      "sdfgh\n",
      "187\n",
      "unknown\n",
      "unknown\n",
      "zsd\n",
      "12\n",
      "None \n",
      " None \n",
      " None\n"
     ]
    }
   ],
   "source": [
    "m1=Man()\n",
    "m2=Man()\n",
    "m3=Man()\n",
    "m2.name,m2.age=\"zsd\",12\n",
    "m3.name,m3.age=\"sdfgh\",187\n",
    "u=m3.val()\n",
    "\n",
    "\n",
    "print(m1.val(),\"\\n\",m2.val(),\"\\n\",u)"
   ]
  },
  {
   "cell_type": "code",
   "execution_count": 5,
   "metadata": {},
   "outputs": [],
   "source": [
    "class student():\n",
    "    rollid=0\n",
    "    def __init__(self,name,age):\n",
    "        self.name=name\n",
    "        self.age=age\n",
    "        student.rollid +=1\n",
    "    def show_info(self):\n",
    "        print(self.name,'\\n',self.age,'\\n')#correct\n",
    "        #print(name,'\\n',age,'\\n') unable to detect as name is unaccesable for this method\n",
    "    #    print(name)"
   ]
  },
  {
   "cell_type": "code",
   "execution_count": 6,
   "metadata": {},
   "outputs": [
    {
     "name": "stdout",
     "output_type": "stream",
     "text": [
      "ANUM \n",
      " 12 \n",
      "\n"
     ]
    }
   ],
   "source": [
    "s1=student(\"ANUM\",12)\n",
    "s2=student(\"faisal\",67)\n",
    "s3=student(\"sdf\",90)\n",
    "#s1.show_info()\n",
    "#print(s1.show_info(),'\\n',s2.show_info(),'\\n',s3.show_info())\n",
    "s1.show_info()\n"
   ]
  },
  {
   "cell_type": "code",
   "execution_count": null,
   "metadata": {},
   "outputs": [
    {
     "name": "stdout",
     "output_type": "stream",
     "text": [
      "Do you want to change current state of any port: \"Y\" for yes \"N\" for noY\n"
     ]
    }
   ],
   "source": [
    "a=b=c=d=e=\"Normal\"\n",
    "port=[a,b,c,d,e]\n",
    "inp=input(\"Do you want to change current state of any port: \\\"Y\\\" for yes \\\"N\\\" for no\")\n",
    "\n",
    "if inp==\"Y\":\n",
    "    n=int(input(\"There are 5 ports how many ports do you want to change:\"))\n",
    "    r=n\n",
    "    if n<len(port):\n",
    "        while n!=0:\n",
    "            port[n]=\"High\"\n",
    "            n-=1\n",
    "    if \"High\" in port :\n",
    "        print(f'MAchine is not running because {r} ports are High')\n",
    "\n",
    "else:\n",
    "    print(\"Machine is running peacfully\")"
   ]
  },
  {
   "cell_type": "code",
   "execution_count": 7,
   "metadata": {},
   "outputs": [
    {
     "data": {
      "text/plain": [
       "'Normal'"
      ]
     },
     "execution_count": 7,
     "metadata": {},
     "output_type": "execute_result"
    }
   ],
   "source": [
    "port[0]"
   ]
  },
  {
   "cell_type": "code",
   "execution_count": null,
   "metadata": {},
   "outputs": [],
   "source": []
  }
 ],
 "metadata": {
  "kernelspec": {
   "display_name": "Python 3",
   "language": "python",
   "name": "python3"
  },
  "language_info": {
   "codemirror_mode": {
    "name": "ipython",
    "version": 3
   },
   "file_extension": ".py",
   "mimetype": "text/x-python",
   "name": "python",
   "nbconvert_exporter": "python",
   "pygments_lexer": "ipython3",
   "version": "3.6.5"
  }
 },
 "nbformat": 4,
 "nbformat_minor": 2
}
