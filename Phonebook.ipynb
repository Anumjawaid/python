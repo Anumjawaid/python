{
 "cells": [
  {
   "cell_type": "markdown",
   "metadata": {},
   "source": [
    "# We add the following  (Key,Value) pairs to our map so it looks like this:\n",
    "\n",
    "\n",
    "We then process each query and print key=value if the queried key is found in the map; otherwise, we print Not found.\n",
    "\n",
    "Query 0: sam\n",
    "Sam is one of the keys in our dictionary, so we print sam=99912222.\n",
    "\n",
    "Query 1: edward\n",
    "Edward is not one of the keys in our dictionary, so we print Not found.\n",
    "\n",
    "Query 2: harry\n",
    "Harry is one of the keys in our dictionary, so we print harry=12299933."
   ]
  },
  {
   "cell_type": "markdown",
   "metadata": {},
   "source": [
    "# Task\n",
    "Given  names and phone numbers, assemble a phone book that maps friends' names to their respective phone numbers. You will then be given an unknown number of names to query your phone book for. For each  queried, print the associated entry from your phone book on a new line in the form name=phoneNumber; if an entry for  is not found, print Not found instead."
   ]
  },
  {
   "cell_type": "code",
   "execution_count": 8,
   "metadata": {},
   "outputs": [
    {
     "name": "stdout",
     "output_type": "stream",
     "text": [
      "How many numbers do you want to save:3\n",
      "lkjhgfd 23456789\n",
      "kjhgfd 3456789\n",
      "uyfdsx 345689\n"
     ]
    },
    {
     "ename": "TypeError",
     "evalue": "'builtin_function_or_method' object is not iterable",
     "output_type": "error",
     "traceback": [
      "\u001b[1;31m---------------------------------------------------------------------------\u001b[0m",
      "\u001b[1;31mTypeError\u001b[0m                                 Traceback (most recent call last)",
      "\u001b[1;32m<ipython-input-8-b95dcdef645a>\u001b[0m in \u001b[0;36m<module>\u001b[1;34m()\u001b[0m\n\u001b[0;32m      2\u001b[0m \u001b[0mn\u001b[0m\u001b[1;33m=\u001b[0m\u001b[0mint\u001b[0m\u001b[1;33m(\u001b[0m\u001b[0minput\u001b[0m\u001b[1;33m(\u001b[0m\u001b[1;34m\"How many numbers do you want to save:\"\u001b[0m\u001b[1;33m)\u001b[0m\u001b[1;33m)\u001b[0m\u001b[1;33m\u001b[0m\u001b[0m\n\u001b[0;32m      3\u001b[0m \u001b[0mna_no\u001b[0m\u001b[1;33m=\u001b[0m\u001b[1;33m[\u001b[0m\u001b[0minput\u001b[0m\u001b[1;33m(\u001b[0m\u001b[1;33m)\u001b[0m\u001b[1;33m.\u001b[0m\u001b[0msplit\u001b[0m \u001b[1;32mfor\u001b[0m \u001b[0m_\u001b[0m \u001b[1;32min\u001b[0m \u001b[0mrange\u001b[0m\u001b[1;33m(\u001b[0m\u001b[0mn\u001b[0m\u001b[1;33m)\u001b[0m\u001b[1;33m]\u001b[0m\u001b[1;33m\u001b[0m\u001b[0m\n\u001b[1;32m----> 4\u001b[1;33m \u001b[0mab\u001b[0m\u001b[1;33m=\u001b[0m\u001b[1;33m{\u001b[0m\u001b[0mk\u001b[0m\u001b[1;33m:\u001b[0m\u001b[0mv\u001b[0m \u001b[1;32mfor\u001b[0m \u001b[0mk\u001b[0m\u001b[1;33m,\u001b[0m\u001b[0mv\u001b[0m \u001b[1;32min\u001b[0m \u001b[0mna_no\u001b[0m\u001b[1;33m}\u001b[0m\u001b[1;33m\u001b[0m\u001b[0m\n\u001b[0m",
      "\u001b[1;32m<ipython-input-8-b95dcdef645a>\u001b[0m in \u001b[0;36m<dictcomp>\u001b[1;34m(.0)\u001b[0m\n\u001b[0;32m      2\u001b[0m \u001b[0mn\u001b[0m\u001b[1;33m=\u001b[0m\u001b[0mint\u001b[0m\u001b[1;33m(\u001b[0m\u001b[0minput\u001b[0m\u001b[1;33m(\u001b[0m\u001b[1;34m\"How many numbers do you want to save:\"\u001b[0m\u001b[1;33m)\u001b[0m\u001b[1;33m)\u001b[0m\u001b[1;33m\u001b[0m\u001b[0m\n\u001b[0;32m      3\u001b[0m \u001b[0mna_no\u001b[0m\u001b[1;33m=\u001b[0m\u001b[1;33m[\u001b[0m\u001b[0minput\u001b[0m\u001b[1;33m(\u001b[0m\u001b[1;33m)\u001b[0m\u001b[1;33m.\u001b[0m\u001b[0msplit\u001b[0m \u001b[1;32mfor\u001b[0m \u001b[0m_\u001b[0m \u001b[1;32min\u001b[0m \u001b[0mrange\u001b[0m\u001b[1;33m(\u001b[0m\u001b[0mn\u001b[0m\u001b[1;33m)\u001b[0m\u001b[1;33m]\u001b[0m\u001b[1;33m\u001b[0m\u001b[0m\n\u001b[1;32m----> 4\u001b[1;33m \u001b[0mab\u001b[0m\u001b[1;33m=\u001b[0m\u001b[1;33m{\u001b[0m\u001b[0mk\u001b[0m\u001b[1;33m:\u001b[0m\u001b[0mv\u001b[0m \u001b[1;32mfor\u001b[0m \u001b[0mk\u001b[0m\u001b[1;33m,\u001b[0m\u001b[0mv\u001b[0m \u001b[1;32min\u001b[0m \u001b[0mna_no\u001b[0m\u001b[1;33m}\u001b[0m\u001b[1;33m\u001b[0m\u001b[0m\n\u001b[0m",
      "\u001b[1;31mTypeError\u001b[0m: 'builtin_function_or_method' object is not iterable"
     ]
    }
   ],
   "source": [
    "#pb={}#phonebook\n",
    "n=int(input(\"How many numbers do you want to save:\"))\n",
    "na_no=[input().split for _ in range(n)]\n",
    "ab={k:v for k,v in na_no}"
   ]
  },
  {
   "cell_type": "code",
   "execution_count": null,
   "metadata": {},
   "outputs": [
    {
     "name": "stdout",
     "output_type": "stream",
     "text": [
      "10000\n",
      "sd 2345\n",
      "as 12345\n",
      "sdfg 234678\n",
      "asd 23456\n",
      "sdf 4589\n",
      "rtt 344\n",
      "hjjd 57893783\n",
      "gdjhdd 3457272\n",
      "fbn 34567\n",
      "ggg 4322\n",
      "444 432\n"
     ]
    }
   ],
   "source": [
    "n = int(input())\n",
    "name_numbers = [input().split() for _ in range(n)]\n",
    "phone_book = {k: v for k,v in name_numbers}\n",
    "q=[]\n",
    "nn=int(input(\"how many queries:\"))\n",
    "for c in range(nn):\n",
    "    j=input(\"enter Query\")\n",
    "    q.append(j)\n",
    "\n",
    "for p,l in enumerate(q):\n",
    "    print(p,l)\n",
    "    if q[p] in phone_book:\n",
    "        print(q[p],'=',phone_book[q[p]])\n",
    "    else:\n",
    "        print(f'{q[p]} Not Found')"
   ]
  },
  {
   "cell_type": "code",
   "execution_count": null,
   "metadata": {},
   "outputs": [],
   "source": [
    "n = int(input())\n",
    "name_numbers=[input().split() for _ in range(n)]\n",
    "# phone_book={k:v for k,v in name_numbers}\n",
    "for k,v in name_numbers:\n",
    "    phone_book={k:v}\n",
    "q=[]\n",
    "# n=int(input(\"\"))\n",
    "for c in range(n):\n",
    "    j=input(\"\")\n",
    "    q.append(j)\n",
    "\n",
    "for p,l in enumerate(q):\n",
    "    # print(p,l)\n",
    "    if q[p] in phone_book:\n",
    "        print(q[p],'=',phone_book[q[p]])\n",
    "    else:\n",
    "        print('Not Found')"
   ]
  },
  {
   "cell_type": "code",
   "execution_count": null,
   "metadata": {},
   "outputs": [
    {
     "name": "stdout",
     "output_type": "stream",
     "text": [
      "4\n",
      "anum 23456789\n",
      "sarah 234567890\n",
      "zanelli 234567890\n",
      "dfghjk 23456789\n",
      "sdfghjk 234567890\n",
      "Not found\n",
      "anum\n",
      "anum=23456789\n"
     ]
    }
   ],
   "source": [
    "n = int(input())\n",
    "name_numbers = [input().split() for _ in range(n)]\n",
    "phone_book = {k: v for k,v in name_numbers}\n",
    "while True:\n",
    "    try:\n",
    "        name = input()\n",
    "        if name in phone_book:\n",
    "            print('%s=%s' % (name, phone_book[name]))\n",
    "        else:\n",
    "            print('Not found')\n",
    "    except:\n",
    "        break"
   ]
  },
  {
   "cell_type": "code",
   "execution_count": 2,
   "metadata": {},
   "outputs": [
    {
     "name": "stdout",
     "output_type": "stream",
     "text": [
      "3\n",
      "anum 456789\n",
      "farwa 34567890p\n",
      "sadaf 34567890\n",
      "[['anum', '456789'], ['farwa', '34567890p'], ['sadaf', '34567890']]\n"
     ]
    }
   ],
   "source": [
    "n = int(input())\n",
    "name_numbers = [input().split() for _ in range(n)]\n",
    "print(name_numbers)"
   ]
  },
  {
   "cell_type": "code",
   "execution_count": 1,
   "metadata": {},
   "outputs": [
    {
     "ename": "ValueError",
     "evalue": "too many values to unpack (expected 2)",
     "output_type": "error",
     "traceback": [
      "\u001b[1;31m---------------------------------------------------------------------------\u001b[0m",
      "\u001b[1;31mValueError\u001b[0m                                Traceback (most recent call last)",
      "\u001b[1;32m<ipython-input-1-319b3db9e545>\u001b[0m in \u001b[0;36m<module>\u001b[1;34m()\u001b[0m\n\u001b[0;32m      1\u001b[0m \u001b[0mname\u001b[0m\u001b[1;33m=\u001b[0m\u001b[1;33m[\u001b[0m\u001b[1;34m'anum'\u001b[0m\u001b[1;33m,\u001b[0m\u001b[1;34m'fg'\u001b[0m\u001b[1;33m,\u001b[0m\u001b[1;34m'ghhb'\u001b[0m\u001b[1;33m,\u001b[0m\u001b[1;34m'5678'\u001b[0m\u001b[1;33m]\u001b[0m\u001b[1;33m\u001b[0m\u001b[0m\n\u001b[1;32m----> 2\u001b[1;33m \u001b[0mpb\u001b[0m\u001b[1;33m=\u001b[0m\u001b[1;33m{\u001b[0m\u001b[0mk\u001b[0m\u001b[1;33m:\u001b[0m\u001b[0mv\u001b[0m \u001b[1;32mfor\u001b[0m \u001b[0mk\u001b[0m\u001b[1;33m,\u001b[0m\u001b[0mv\u001b[0m \u001b[1;32min\u001b[0m \u001b[0mname\u001b[0m\u001b[1;33m}\u001b[0m\u001b[1;33m\u001b[0m\u001b[0m\n\u001b[0m\u001b[0;32m      3\u001b[0m \u001b[0mprint\u001b[0m\u001b[1;33m(\u001b[0m\u001b[0mpb\u001b[0m\u001b[1;33m)\u001b[0m\u001b[1;33m\u001b[0m\u001b[0m\n",
      "\u001b[1;32m<ipython-input-1-319b3db9e545>\u001b[0m in \u001b[0;36m<dictcomp>\u001b[1;34m(.0)\u001b[0m\n\u001b[0;32m      1\u001b[0m \u001b[0mname\u001b[0m\u001b[1;33m=\u001b[0m\u001b[1;33m[\u001b[0m\u001b[1;34m'anum'\u001b[0m\u001b[1;33m,\u001b[0m\u001b[1;34m'fg'\u001b[0m\u001b[1;33m,\u001b[0m\u001b[1;34m'ghhb'\u001b[0m\u001b[1;33m,\u001b[0m\u001b[1;34m'5678'\u001b[0m\u001b[1;33m]\u001b[0m\u001b[1;33m\u001b[0m\u001b[0m\n\u001b[1;32m----> 2\u001b[1;33m \u001b[0mpb\u001b[0m\u001b[1;33m=\u001b[0m\u001b[1;33m{\u001b[0m\u001b[0mk\u001b[0m\u001b[1;33m:\u001b[0m\u001b[0mv\u001b[0m \u001b[1;32mfor\u001b[0m \u001b[0mk\u001b[0m\u001b[1;33m,\u001b[0m\u001b[0mv\u001b[0m \u001b[1;32min\u001b[0m \u001b[0mname\u001b[0m\u001b[1;33m}\u001b[0m\u001b[1;33m\u001b[0m\u001b[0m\n\u001b[0m\u001b[0;32m      3\u001b[0m \u001b[0mprint\u001b[0m\u001b[1;33m(\u001b[0m\u001b[0mpb\u001b[0m\u001b[1;33m)\u001b[0m\u001b[1;33m\u001b[0m\u001b[0m\n",
      "\u001b[1;31mValueError\u001b[0m: too many values to unpack (expected 2)"
     ]
    }
   ],
   "source": [
    "name=['anum','fg','ghhb','5678']\n",
    "pb={k:v for k,v in name}\n",
    "print(pb)"
   ]
  },
  {
   "cell_type": "code",
   "execution_count": 1,
   "metadata": {},
   "outputs": [
    {
     "name": "stdout",
     "output_type": "stream",
     "text": [
      "dict_keys(['sam', 'sdfgh', 'asdfty'])\n"
     ]
    }
   ],
   "source": [
    "pb={'sam':23456,'sdfgh':4568,\"asdfty\":12345678}\n",
    "print(pb.keys())"
   ]
  },
  {
   "cell_type": "code",
   "execution_count": 2,
   "metadata": {},
   "outputs": [
    {
     "data": {
      "text/plain": [
       "dict_values([23456, 4568, 12345678])"
      ]
     },
     "execution_count": 2,
     "metadata": {},
     "output_type": "execute_result"
    }
   ],
   "source": [
    "pb.values()"
   ]
  },
  {
   "cell_type": "code",
   "execution_count": 3,
   "metadata": {},
   "outputs": [],
   "source": [
    "pb['ihj']=2345678"
   ]
  },
  {
   "cell_type": "code",
   "execution_count": 4,
   "metadata": {},
   "outputs": [
    {
     "data": {
      "text/plain": [
       "{'sam': 23456, 'sdfgh': 4568, 'asdfty': 12345678, 'ihj': 2345678}"
      ]
     },
     "execution_count": 4,
     "metadata": {},
     "output_type": "execute_result"
    }
   ],
   "source": [
    "pb"
   ]
  },
  {
   "cell_type": "markdown",
   "metadata": {},
   "source": [
    "# dictionary\n",
    "### dic.keys()\n",
    "### dic.values()\n",
    "### dic[key]=value"
   ]
  },
  {
   "cell_type": "code",
   "execution_count": null,
   "metadata": {},
   "outputs": [],
   "source": [
    "### string.split()==>return entities in list"
   ]
  },
  {
   "cell_type": "code",
   "execution_count": 9,
   "metadata": {},
   "outputs": [
    {
     "name": "stdout",
     "output_type": "stream",
     "text": [
      "how many queries:3\n",
      "Enter record with space : sam 2345678\n",
      "Enter record with space : harry 3456890\n",
      "Enter record with space : macho 2345678\n",
      "sam\n",
      "sam   2345678\n",
      "edward\n",
      "NOT FOUND\n",
      "macho\n",
      "macho   2345678\n"
     ]
    }
   ],
   "source": [
    "pb={}\n",
    "inp=int(input(\"how many queries:\"))\n",
    "for i in range(inp):\n",
    "    que=input(\"Enter record with space : \")\n",
    "    pb[que.split()[0]]=que.split()[1]\n",
    "for i in range(inp):\n",
    "    a=input()\n",
    "    if a in pb.keys():\n",
    "        print(a,\"=\",pb[a])\n",
    "    else:\n",
    "        print(\"NOT FOUND\")\n"
   ]
  },
  {
   "cell_type": "code",
   "execution_count": null,
   "metadata": {},
   "outputs": [
    {
     "name": "stdout",
     "output_type": "stream",
     "text": [
      "3\n",
      "sam 3456789\n",
      "sdfgh 23456789\n",
      "sdfghjkl 0987654\n",
      "sam\n",
      "sam=3456789\n"
     ]
    }
   ],
   "source": [
    "pb={}\n",
    "inp=int(input())\n",
    "for i in range(inp):\n",
    "    que=input()\n",
    "    pb[que.split()[0]]=que.split()[1]\n",
    "for i in range(inp):\n",
    "    a=input()\n",
    "    if a in pb.keys():\n",
    "        print(a+\"=\"+pb[a])\n",
    "    else:\n",
    "        print(\"Not found\")"
   ]
  },
  {
   "cell_type": "code",
   "execution_count": 11,
   "metadata": {},
   "outputs": [
    {
     "name": "stdout",
     "output_type": "stream",
     "text": [
      "234568\n"
     ]
    }
   ],
   "source": [
    "n = int(input())\n",
    "name_numbers = [input().split() for _ in range(n)]\n",
    "phone_book = {k: v for k,v in name_numbers}\n",
    "while True:\n",
    "    try:\n",
    "        name = input()\n",
    "        if name in phone_book:\n",
    "            print('%s=%s' % (name, phone_book[name]))\n",
    "        else:\n",
    "            print('Not found')\n",
    "    except:\n",
    "        break"
   ]
  },
  {
   "cell_type": "code",
   "execution_count": null,
   "metadata": {},
   "outputs": [],
   "source": [
    "#my modified version it is not working for 10000\n",
    "#giving a tweak by learning above one\n",
    "pb={}\n",
    "inp=int(input())\n",
    "for i in range(inp):\n",
    "    que=input()\n",
    "    pb[que.split()[0]]=que.split()[1]\n",
    "while 1:\n",
    "    try:\n",
    "        a=input()\n",
    "        if a in pb.keys():\n",
    "            print(a+\"=\"+pb[a])\n",
    "        else:\n",
    "            print(\"Not found\")\n",
    "    except:\n",
    "        break"
   ]
  },
  {
   "cell_type": "code",
   "execution_count": null,
   "metadata": {},
   "outputs": [],
   "source": []
  }
 ],
 "metadata": {
  "kernelspec": {
   "display_name": "Python 3",
   "language": "python",
   "name": "python3"
  },
  "language_info": {
   "codemirror_mode": {
    "name": "ipython",
    "version": 3
   },
   "file_extension": ".py",
   "mimetype": "text/x-python",
   "name": "python",
   "nbconvert_exporter": "python",
   "pygments_lexer": "ipython3",
   "version": "3.6.5"
  }
 },
 "nbformat": 4,
 "nbformat_minor": 2
}
