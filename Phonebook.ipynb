{
 "cells": [
  {
   "cell_type": "markdown",
   "metadata": {},
   "source": [
    "# We add the following  (Key,Value) pairs to our map so it looks like this:\n",
    "\n",
    "\n",
    "We then process each query and print key=value if the queried key is found in the map; otherwise, we print Not found.\n",
    "\n",
    "Query 0: sam\n",
    "Sam is one of the keys in our dictionary, so we print sam=99912222.\n",
    "\n",
    "Query 1: edward\n",
    "Edward is not one of the keys in our dictionary, so we print Not found.\n",
    "\n",
    "Query 2: harry\n",
    "Harry is one of the keys in our dictionary, so we print harry=12299933."
   ]
  },
  {
   "cell_type": "markdown",
   "metadata": {},
   "source": [
    "# Task\n",
    "Given  names and phone numbers, assemble a phone book that maps friends' names to their respective phone numbers. You will then be given an unknown number of names to query your phone book for. For each  queried, print the associated entry from your phone book on a new line in the form name=phoneNumber; if an entry for  is not found, print Not found instead."
   ]
  },
  {
   "cell_type": "code",
   "execution_count": 2,
   "metadata": {},
   "outputs": [
    {
     "name": "stdout",
     "output_type": "stream",
     "text": [
      "How many numbers do you want to save:3\n",
      "enter by a space:sam 23456789\n",
      "enter by a space:anum 123456789876543\n",
      "enter by a space:talia 08245674\n"
     ]
    }
   ],
   "source": [
    "pb={}#phonebook\n",
    "n=int(input(\"How many numbers do you want to save:\"))\n",
    "for i in range(n):\n",
    "    a=input(\"enter by a space:\")\n",
    "    b=a.split()\n",
    "    pb[b[0]]=b[1]\n",
    "    "
   ]
  },
  {
   "cell_type": "code",
   "execution_count": 4,
   "metadata": {},
   "outputs": [
    {
     "name": "stdout",
     "output_type": "stream",
     "text": [
      "enter Querysam\n",
      "enter Queryanum\n",
      "enter Queryasdbn\n",
      "sam = 23456789\n",
      "anum = 123456789876543\n",
      " asdbnNot Found\n"
     ]
    }
   ],
   "source": [
    "q=[]\n",
    "for c in range(n):\n",
    "    j=input(\"enter Query\")\n",
    "    q.append(j)\n",
    "\n",
    "for p,l in enumerate(q):\n",
    "    if q[p] in pb.keys():\n",
    "        print(q[p],'=',pb[q[p]])\n",
    "    else:\n",
    "        print(f' {q[p]}Not Found')"
   ]
  },
  {
   "cell_type": "code",
   "execution_count": 5,
   "metadata": {},
   "outputs": [
    {
     "data": {
      "text/plain": [
       "2560"
      ]
     },
     "execution_count": 5,
     "metadata": {},
     "output_type": "execute_result"
    }
   ],
   "source": [
    "160*16"
   ]
  },
  {
   "cell_type": "code",
   "execution_count": 6,
   "metadata": {},
   "outputs": [
    {
     "data": {
      "text/plain": [
       "3886"
      ]
     },
     "execution_count": 6,
     "metadata": {},
     "output_type": "execute_result"
    }
   ],
   "source": [
    "2560+1326"
   ]
  },
  {
   "cell_type": "code",
   "execution_count": null,
   "metadata": {},
   "outputs": [],
   "source": []
  }
 ],
 "metadata": {
  "kernelspec": {
   "display_name": "Python 3",
   "language": "python",
   "name": "python3"
  },
  "language_info": {
   "codemirror_mode": {
    "name": "ipython",
    "version": 3
   },
   "file_extension": ".py",
   "mimetype": "text/x-python",
   "name": "python",
   "nbconvert_exporter": "python",
   "pygments_lexer": "ipython3",
   "version": "3.6.5"
  }
 },
 "nbformat": 4,
 "nbformat_minor": 2
}
