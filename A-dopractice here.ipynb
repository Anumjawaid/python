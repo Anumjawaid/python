{
 "cells": [
  {
   "cell_type": "markdown",
   "metadata": {},
   "source": [
    "# You can use the local variable in python inside functions but cannot inc dec it"
   ]
  },
  {
   "cell_type": "code",
   "execution_count": 13,
   "metadata": {},
   "outputs": [
    {
     "name": "stdout",
     "output_type": "stream",
     "text": [
      "before inc 1\n"
     ]
    },
    {
     "ename": "UnboundLocalError",
     "evalue": "local variable 'x' referenced before assignment",
     "output_type": "error",
     "traceback": [
      "\u001b[1;31m---------------------------------------------------------------------------\u001b[0m",
      "\u001b[1;31mUnboundLocalError\u001b[0m                         Traceback (most recent call last)",
      "\u001b[1;32m<ipython-input-13-fb1e7af9ef7b>\u001b[0m in \u001b[0;36m<module>\u001b[1;34m()\u001b[0m\n\u001b[0;32m      7\u001b[0m \u001b[1;32mdef\u001b[0m \u001b[0mS\u001b[0m\u001b[1;33m(\u001b[0m\u001b[1;33m)\u001b[0m\u001b[1;33m:\u001b[0m\u001b[1;33m\u001b[0m\u001b[0m\n\u001b[0;32m      8\u001b[0m     \u001b[0mx\u001b[0m\u001b[1;33m=\u001b[0m\u001b[0mx\u001b[0m\u001b[1;33m+\u001b[0m\u001b[1;36m1\u001b[0m\u001b[1;33m\u001b[0m\u001b[0m\n\u001b[1;32m----> 9\u001b[1;33m \u001b[0mprint\u001b[0m\u001b[1;33m(\u001b[0m\u001b[0mF\u001b[0m\u001b[1;33m(\u001b[0m\u001b[1;33m)\u001b[0m\u001b[1;33m)\u001b[0m\u001b[1;33m\u001b[0m\u001b[0m\n\u001b[0m\u001b[0;32m     10\u001b[0m \u001b[0mprint\u001b[0m\u001b[1;33m(\u001b[0m\u001b[1;34m'outside functions'\u001b[0m\u001b[1;33m,\u001b[0m\u001b[0mx\u001b[0m\u001b[1;33m)\u001b[0m\u001b[1;33m\u001b[0m\u001b[0m\n",
      "\u001b[1;32m<ipython-input-13-fb1e7af9ef7b>\u001b[0m in \u001b[0;36mF\u001b[1;34m()\u001b[0m\n\u001b[0;32m      3\u001b[0m \u001b[1;32mdef\u001b[0m \u001b[0mF\u001b[0m\u001b[1;33m(\u001b[0m\u001b[1;33m)\u001b[0m\u001b[1;33m:\u001b[0m\u001b[1;33m\u001b[0m\u001b[0m\n\u001b[0;32m      4\u001b[0m     \u001b[0mprint\u001b[0m\u001b[1;33m(\u001b[0m\u001b[1;34m\"before inc\"\u001b[0m\u001b[1;33m,\u001b[0m\u001b[0mx\u001b[0m\u001b[1;33m)\u001b[0m\u001b[1;33m\u001b[0m\u001b[0m\n\u001b[1;32m----> 5\u001b[1;33m     \u001b[0mS\u001b[0m\u001b[1;33m(\u001b[0m\u001b[1;33m)\u001b[0m\u001b[1;33m\u001b[0m\u001b[0m\n\u001b[0m\u001b[0;32m      6\u001b[0m     \u001b[0mprint\u001b[0m\u001b[1;33m(\u001b[0m\u001b[1;34m'after inc'\u001b[0m\u001b[1;33m,\u001b[0m\u001b[0mx\u001b[0m\u001b[1;33m)\u001b[0m\u001b[1;33m\u001b[0m\u001b[0m\n\u001b[0;32m      7\u001b[0m \u001b[1;32mdef\u001b[0m \u001b[0mS\u001b[0m\u001b[1;33m(\u001b[0m\u001b[1;33m)\u001b[0m\u001b[1;33m:\u001b[0m\u001b[1;33m\u001b[0m\u001b[0m\n",
      "\u001b[1;32m<ipython-input-13-fb1e7af9ef7b>\u001b[0m in \u001b[0;36mS\u001b[1;34m()\u001b[0m\n\u001b[0;32m      6\u001b[0m     \u001b[0mprint\u001b[0m\u001b[1;33m(\u001b[0m\u001b[1;34m'after inc'\u001b[0m\u001b[1;33m,\u001b[0m\u001b[0mx\u001b[0m\u001b[1;33m)\u001b[0m\u001b[1;33m\u001b[0m\u001b[0m\n\u001b[0;32m      7\u001b[0m \u001b[1;32mdef\u001b[0m \u001b[0mS\u001b[0m\u001b[1;33m(\u001b[0m\u001b[1;33m)\u001b[0m\u001b[1;33m:\u001b[0m\u001b[1;33m\u001b[0m\u001b[0m\n\u001b[1;32m----> 8\u001b[1;33m     \u001b[0mx\u001b[0m\u001b[1;33m=\u001b[0m\u001b[0mx\u001b[0m\u001b[1;33m+\u001b[0m\u001b[1;36m1\u001b[0m\u001b[1;33m\u001b[0m\u001b[0m\n\u001b[0m\u001b[0;32m      9\u001b[0m \u001b[0mprint\u001b[0m\u001b[1;33m(\u001b[0m\u001b[0mF\u001b[0m\u001b[1;33m(\u001b[0m\u001b[1;33m)\u001b[0m\u001b[1;33m)\u001b[0m\u001b[1;33m\u001b[0m\u001b[0m\n\u001b[0;32m     10\u001b[0m \u001b[0mprint\u001b[0m\u001b[1;33m(\u001b[0m\u001b[1;34m'outside functions'\u001b[0m\u001b[1;33m,\u001b[0m\u001b[0mx\u001b[0m\u001b[1;33m)\u001b[0m\u001b[1;33m\u001b[0m\u001b[0m\n",
      "\u001b[1;31mUnboundLocalError\u001b[0m: local variable 'x' referenced before assignment"
     ]
    }
   ],
   "source": [
    "#local functions\n",
    "x=1\n",
    "def F():\n",
    "    print(\"before inc\",x)\n",
    "    S()\n",
    "    print('after inc',x)\n",
    "def S():\n",
    "    x=x+1\n",
    "print(F())\n",
    "print('outside functions',x)"
   ]
  },
  {
   "cell_type": "code",
   "execution_count": null,
   "metadata": {},
   "outputs": [],
   "source": []
  },
  {
   "cell_type": "code",
   "execution_count": null,
   "metadata": {},
   "outputs": [],
   "source": []
  },
  {
   "cell_type": "code",
   "execution_count": null,
   "metadata": {},
   "outputs": [],
   "source": [
    "inn=input()\n",
    "s=\"HackerRank\"\n",
    "print(s+inn)\n"
   ]
  },
  {
   "cell_type": "code",
   "execution_count": null,
   "metadata": {},
   "outputs": [],
   "source": [
    "s=\"Hacker\"\n",
    "i=int(input())\n"
   ]
  },
  {
   "cell_type": "code",
   "execution_count": null,
   "metadata": {},
   "outputs": [],
   "source": [
    "s=\"Hacker\"\n",
    "o=[]\n",
    "e=[]\n",
    "len(s)#this shows the member in a group\n",
    "for i,a in enumerate(s):\n",
    "    if i%2==0:\n",
    "        print(s[i],end='')\n",
    "    else:\n",
    "        print(s[i],end='')\n",
    "        "
   ]
  },
  {
   "cell_type": "code",
   "execution_count": 5,
   "metadata": {},
   "outputs": [
    {
     "name": "stdout",
     "output_type": "stream",
     "text": [
      "Rn\n",
      "ak\n"
     ]
    }
   ],
   "source": [
    "a=\"Rank\"\n",
    "for s in range(1):\n",
    "    print(a[::2])\n",
    "    print(a[1::2])\n"
   ]
  },
  {
   "cell_type": "code",
   "execution_count": null,
   "metadata": {},
   "outputs": [],
   "source": [
    "for N in range(int(input())):\n",
    "    S = input()\n",
    "    print(S[::2], S[1::2])"
   ]
  },
  {
   "cell_type": "code",
   "execution_count": null,
   "metadata": {},
   "outputs": [],
   "source": [
    "N = int(input())\n",
    "even=N%2\n",
    "if even!=0:\n",
    "    print('Weird')\n",
    "elif even==0 and (N>2 and N<5):\n",
    "      print(\"Not Weird\")\n",
    "elif even==0 and (N>6 and N<20):\n",
    "      print(\"Weird\")\n",
    "elif even==0 or N>20:\n",
    "      print('Not Weird')\n",
    "\n",
    "\n"
   ]
  },
  {
   "cell_type": "code",
   "execution_count": null,
   "metadata": {},
   "outputs": [],
   "source": [
    "20%2"
   ]
  },
  {
   "cell_type": "code",
   "execution_count": null,
   "metadata": {},
   "outputs": [],
   "source": [
    "def solve(meal_cost, tip_percent, tax_percent):\n",
    "    \n",
    "    tip=meal_cost*(tip_percent/100)\n",
    "    tax=meal_cost*(tax_percent/100)\n",
    "    total=meal_cost+tax+tip\n",
    "    print( round(total))\n",
    "solve(12.0,20,8)\n"
   ]
  },
  {
   "cell_type": "code",
   "execution_count": null,
   "metadata": {},
   "outputs": [],
   "source": [
    "i = 4\n",
    "d = 4.0\n",
    "s = 'HackerRank '\n",
    "# Declare second integer, double, and String variables.\n",
    "inn=int(input())\n",
    "do=float(input())\n",
    "st=input()\n",
    "\n",
    "# Read and save an integer, double, and String to your variables.\n",
    "\n",
    "# Print the sum of both integer variables on a new line.\n",
    "print(i+inn)\n",
    "# Print the sum of the double variables on a new line.\n",
    "print(do+d)\n",
    "# Concatenate and print the String variables on a new line\n",
    "# The 's' variable above should be printed first.\n",
    "print(s+st)"
   ]
  },
  {
   "cell_type": "code",
   "execution_count": null,
   "metadata": {},
   "outputs": [],
   "source": [
    "5%2"
   ]
  },
  {
   "cell_type": "code",
   "execution_count": null,
   "metadata": {},
   "outputs": [],
   "source": [
    "\n",
    "from pdfminer.pdfinterp import PDFResourceManager, PDFPageInterpreter#process_pdf\n",
    "from pdfminer.pdfpage import PDFPage\n",
    "from pdfminer.converter import TextConverter\n",
    "from pdfminer.layout import LAParams\n",
    "\n",
    "from cStringIO import StringIO\n",
    "\n",
    "def pdf_to_text(pdfname):\n",
    "\n",
    "    # PDFMiner boilerplate\n",
    "    rsrcmgr = PDFResourceManager()\n",
    "    sio = StringIO()\n",
    "    codec = 'utf-8'\n",
    "    laparams = LAParams()\n",
    "    device = TextConverter(rsrcmgr, sio, codec=codec, laparams=laparams)\n",
    "    interpreter = PDFPageInterpreter(rsrcmgr, device)\n",
    "\n",
    "    # Extract text\n",
    "    fp = file(pdfname, 'SAMPLE BANNER')\n",
    "    for page in PDFPage.get_pages(fp):\n",
    "        interpreter.process_page(page)\n",
    "    fp.close()\n",
    "\n",
    "    # Get text from StringIO\n",
    "    text = sio.getvalue()\n",
    "\n",
    "    # Cleanup\n",
    "    device.close()\n",
    "    sio.close()\n",
    "\n",
    "    return text"
   ]
  },
  {
   "cell_type": "code",
   "execution_count": null,
   "metadata": {},
   "outputs": [],
   "source": [
    "def nextone(a):\n",
    "    c=a+1\n",
    "    return c\n",
    "nextone(-2)"
   ]
  },
  {
   "cell_type": "code",
   "execution_count": null,
   "metadata": {},
   "outputs": [],
   "source": [
    "def animals(chickens, cows, pigs):\n",
    "    chickens=2*chickens\n",
    "    cows=4*cows\n",
    "    pigs=4*pigs\n",
    "    c=chickens+cows+pigs\n",
    "    return c\n",
    "animals(2, 3, 5)"
   ]
  },
  {
   "cell_type": "code",
   "execution_count": null,
   "metadata": {},
   "outputs": [],
   "source": [
    "def addition(a,b):\n",
    "    c=a+b\n",
    "    return c\n",
    "addition(-3,-2)"
   ]
  },
  {
   "cell_type": "code",
   "execution_count": null,
   "metadata": {},
   "outputs": [],
   "source": [
    "def is_same_num(num1,num2):\n",
    "    if num1==num2:\n",
    "        return True\n",
    "    else:False\n",
    "is_same_num(2,2)"
   ]
  },
  {
   "cell_type": "code",
   "execution_count": null,
   "metadata": {},
   "outputs": [],
   "source": [
    "def string_int(txt):\n",
    "    c=int(txt)\n",
    "    return c\n",
    "string_int(\"3\")\n",
    "\n"
   ]
  },
  {
   "cell_type": "code",
   "execution_count": null,
   "metadata": {},
   "outputs": [],
   "source": [
    "c='3'\n",
    "c.replace('\\'','')\n",
    "int(c)"
   ]
  },
  {
   "cell_type": "code",
   "execution_count": null,
   "metadata": {},
   "outputs": [],
   "source": [
    "\n",
    "from array import *\n",
    "\n",
    "\n",
    "p1=('i',{1,2,3,4,5,6,7})\n",
    "p2=('i',{1,2,3,4,5,6,7})\n",
    "p3=('i',{1,2,3,4,5,6,7})\n",
    "process=[p1,p2,p3]\n",
    "for i in process:\n",
    "    s=process[0]\n",
    "    k=0\n",
    "    while(k<=2):\n",
    "        t=s[k].pop\n",
    "        print(f\"remove from s{0} no remove{1}\",(s,t))\n",
    "        "
   ]
  },
  {
   "cell_type": "code",
   "execution_count": null,
   "metadata": {},
   "outputs": [],
   "source": [
    "import random as rd\n",
    "#from curses import *\n",
    "#import pygame.py"
   ]
  },
  {
   "cell_type": "code",
   "execution_count": null,
   "metadata": {},
   "outputs": [],
   "source": [
    "7*8%11"
   ]
  },
  {
   "cell_type": "code",
   "execution_count": null,
   "metadata": {},
   "outputs": [],
   "source": [
    "#n=int(input((\"enter number b/w the range 1 to 20 : \")))\n",
    "#r=rd.randint(1,20)\n",
    "c=3\n",
    "while c!=0:\n",
    "    \n",
    "    n=int(input((\"enter number b/w the range 1-20 : \")))\n",
    "    r=rd.randint(1,20)\n",
    "    if n < r:\n",
    "        print(f\"Too Small the guess word is {r} \\n {c-1} live left \\n************\")\n",
    "        c-=1\n",
    "    elif n > r:\n",
    "        print(f\"Too LARGE the guess word is {r} \\n {c-1} live left \\n************\")\n",
    "        \n",
    "        c-=1\n",
    "    elif n==r:\n",
    "        print(\"COngatulations!!\\n************\")\n",
    "        c=0\n",
    "\n",
    "print(\"end of game\")    "
   ]
  },
  {
   "cell_type": "code",
   "execution_count": null,
   "metadata": {},
   "outputs": [],
   "source": [
    "import pandas as pd"
   ]
  },
  {
   "cell_type": "code",
   "execution_count": null,
   "metadata": {},
   "outputs": [],
   "source": [
    "bac.columns[2]\n",
    "len(iam.columns)"
   ]
  },
  {
   "cell_type": "code",
   "execution_count": null,
   "metadata": {},
   "outputs": [],
   "source": [
    "for a,i in range(11)"
   ]
  },
  {
   "cell_type": "code",
   "execution_count": null,
   "metadata": {},
   "outputs": [],
   "source": [
    "bac=pd.read_excel(\"BCAb .xlsx\")\n",
    "bac.head(5)"
   ]
  },
  {
   "cell_type": "code",
   "execution_count": null,
   "metadata": {},
   "outputs": [],
   "source": [
    "iam=pd.read_excel(\"IAM .xlsx\")\n",
    "iam.head(5)\n"
   ]
  },
  {
   "cell_type": "code",
   "execution_count": null,
   "metadata": {},
   "outputs": [],
   "source": [
    "print(bac.index)\n",
    "print(iam.index)"
   ]
  },
  {
   "cell_type": "code",
   "execution_count": null,
   "metadata": {},
   "outputs": [],
   "source": [
    "print(bac.columns)\n",
    "print(iam.columns)"
   ]
  },
  {
   "cell_type": "code",
   "execution_count": null,
   "metadata": {},
   "outputs": [],
   "source": [
    "print(bac.info())"
   ]
  },
  {
   "cell_type": "code",
   "execution_count": null,
   "metadata": {},
   "outputs": [],
   "source": [
    "print(iam.info())"
   ]
  },
  {
   "cell_type": "code",
   "execution_count": null,
   "metadata": {},
   "outputs": [],
   "source": [
    "import numpy as np\n"
   ]
  },
  {
   "cell_type": "code",
   "execution_count": null,
   "metadata": {},
   "outputs": [],
   "source": [
    "df=pd.DataFrame(bac)"
   ]
  },
  {
   "cell_type": "code",
   "execution_count": null,
   "metadata": {},
   "outputs": [],
   "source": [
    "df.head(5)"
   ]
  },
  {
   "cell_type": "code",
   "execution_count": null,
   "metadata": {},
   "outputs": [],
   "source": [
    "df[\"diffrence\"]=np.where(bac[\"HomeTeam\"]==iam['HomeTeam'],'true','false')"
   ]
  },
  {
   "cell_type": "code",
   "execution_count": null,
   "metadata": {},
   "outputs": [],
   "source": [
    "c=0\n",
    "e=0\n",
    "for a,b in zip(bac['HomeTeam'],iam['HomeTeam']):\n",
    "    if a!=b:\n",
    "        print(c)\n",
    "        e+=1\n",
    "    else:\n",
    "         print('.')\n",
    "    c+=1\n",
    "print(e)"
   ]
  },
  {
   "cell_type": "code",
   "execution_count": null,
   "metadata": {},
   "outputs": [],
   "source": [
    "print(e)"
   ]
  },
  {
   "cell_type": "code",
   "execution_count": null,
   "metadata": {},
   "outputs": [],
   "source": [
    "c=0\n",
    "e=0\n",
    "for a,b in zip(bac['Half Time '],iam['Half Time']):\n",
    "    if a!=b:\n",
    "        print(c)\n",
    "        e+=1\n",
    "    else:\n",
    "         print('.')\n",
    "    c+=1\n",
    "print(e)"
   ]
  },
  {
   "cell_type": "code",
   "execution_count": null,
   "metadata": {},
   "outputs": [],
   "source": [
    "print(e)"
   ]
  },
  {
   "cell_type": "code",
   "execution_count": null,
   "metadata": {},
   "outputs": [],
   "source": [
    "iam.iloc[:,:-1]"
   ]
  },
  {
   "cell_type": "code",
   "execution_count": null,
   "metadata": {},
   "outputs": [],
   "source": [
    "b=bac.groupby('HomeTeam').mean()"
   ]
  },
  {
   "cell_type": "code",
   "execution_count": null,
   "metadata": {},
   "outputs": [],
   "source": [
    "a=iam.groupby('HomeTeam').mean()\n",
    "print(len(b),'\\n',len(a))"
   ]
  },
  {
   "cell_type": "code",
   "execution_count": null,
   "metadata": {},
   "outputs": [],
   "source": [
    "b[b.columns[1]]"
   ]
  },
  {
   "cell_type": "code",
   "execution_count": null,
   "metadata": {},
   "outputs": [],
   "source": [
    "a[a.columns[0]]"
   ]
  },
  {
   "cell_type": "code",
   "execution_count": null,
   "metadata": {},
   "outputs": [],
   "source": [
    "p=0\n",
    "for i in range(274):\n",
    "    for t,y in zip(b[b.columns[i]],a[a.columns[i]]):\n",
    "        if t!=y:\n",
    "            print(f'{p}there is a diffrence of{t-y} ',p,t-y)\n",
    "        else:\n",
    "            print('.')"
   ]
  },
  {
   "cell_type": "code",
   "execution_count": null,
   "metadata": {},
   "outputs": [],
   "source": [
    "for i in range(230):\n",
    "    for a in b[b.columns[i]]:\n",
    "        print(a)\n",
    "    print(\"ASDFGHN\")"
   ]
  },
  {
   "cell_type": "code",
   "execution_count": null,
   "metadata": {},
   "outputs": [],
   "source": [
    "import datacompy"
   ]
  },
  {
   "cell_type": "code",
   "execution_count": null,
   "metadata": {},
   "outputs": [],
   "source": [
    "compare = datacompy.Compare(\n",
    "    bac,\n",
    "    iam,\n",
    "    join_columns=['Date','Div','HomeTeam','AwayTeam'],  #You can also specify a list of columns eg ['policyID','statecode']\n",
    "    df1_name='BAC', #Optional, defaults to 'df1'\n",
    "    df2_name='IAM' \n",
    "   \n",
    ")"
   ]
  },
  {
   "cell_type": "code",
   "execution_count": null,
   "metadata": {},
   "outputs": [],
   "source": [
    "print(compare.report())"
   ]
  },
  {
   "cell_type": "code",
   "execution_count": null,
   "metadata": {},
   "outputs": [],
   "source": [
    "bac.loc[37835]"
   ]
  },
  {
   "cell_type": "code",
   "execution_count": null,
   "metadata": {},
   "outputs": [],
   "source": [
    "iam[iam['div']=='Uk League 2'] "
   ]
  },
  {
   "cell_type": "code",
   "execution_count": null,
   "metadata": {},
   "outputs": [],
   "source": [
    "iam.head(5)"
   ]
  },
  {
   "cell_type": "code",
   "execution_count": 12,
   "metadata": {},
   "outputs": [
    {
     "name": "stdout",
     "output_type": "stream",
     "text": [
      "s\n"
     ]
    },
    {
     "ename": "ValueError",
     "evalue": "invalid literal for int() with base 10: 's'",
     "output_type": "error",
     "traceback": [
      "\u001b[1;31m---------------------------------------------------------------------------\u001b[0m",
      "\u001b[1;31mValueError\u001b[0m                                Traceback (most recent call last)",
      "\u001b[1;32m<ipython-input-12-83b5393f08a7>\u001b[0m in \u001b[0;36m<module>\u001b[1;34m()\u001b[0m\n\u001b[0;32m      1\u001b[0m \u001b[0ma\u001b[0m\u001b[1;33m=\u001b[0m\u001b[1;33m[\u001b[0m\u001b[1;33m]\u001b[0m\u001b[1;33m\u001b[0m\u001b[0m\n\u001b[1;32m----> 2\u001b[1;33m \u001b[0mn\u001b[0m\u001b[1;33m=\u001b[0m\u001b[0mint\u001b[0m\u001b[1;33m(\u001b[0m\u001b[0minput\u001b[0m\u001b[1;33m(\u001b[0m\u001b[1;33m)\u001b[0m\u001b[1;33m)\u001b[0m\u001b[1;33m\u001b[0m\u001b[0m\n\u001b[0m\u001b[0;32m      3\u001b[0m \u001b[1;32mfor\u001b[0m \u001b[0mb\u001b[0m \u001b[1;32min\u001b[0m \u001b[0mrange\u001b[0m\u001b[1;33m(\u001b[0m\u001b[0mn\u001b[0m\u001b[1;33m)\u001b[0m\u001b[1;33m:\u001b[0m\u001b[1;33m\u001b[0m\u001b[0m\n\u001b[0;32m      4\u001b[0m     \u001b[0ma\u001b[0m\u001b[1;33m.\u001b[0m\u001b[0mappend\u001b[0m\u001b[1;33m(\u001b[0m\u001b[0mb\u001b[0m\u001b[1;33m)\u001b[0m\u001b[1;33m\u001b[0m\u001b[0m\n\u001b[0;32m      5\u001b[0m \u001b[0mprint\u001b[0m\u001b[1;33m(\u001b[0m\u001b[0ma\u001b[0m\u001b[1;33m)\u001b[0m\u001b[1;33m\u001b[0m\u001b[0m\n",
      "\u001b[1;31mValueError\u001b[0m: invalid literal for int() with base 10: 's'"
     ]
    }
   ],
   "source": [
    "a=[]\n",
    "n=int(input())\n",
    "for b in range(n):\n",
    "    a.append(b)\n",
    "print(a)\n",
    "a=[4,5,6,8]"
   ]
  },
  {
   "cell_type": "code",
   "execution_count": 6,
   "metadata": {},
   "outputs": [],
   "source": [
    "a=[4,5,6,7,8,9,3,2]\n",
    "d=[1,2,3,4]"
   ]
  },
  {
   "cell_type": "code",
   "execution_count": 7,
   "metadata": {},
   "outputs": [
    {
     "name": "stdout",
     "output_type": "stream",
     "text": [
      "\n"
     ]
    },
    {
     "ename": "ValueError",
     "evalue": "invalid literal for int() with base 10: ''",
     "output_type": "error",
     "traceback": [
      "\u001b[1;31m---------------------------------------------------------------------------\u001b[0m",
      "\u001b[1;31mValueError\u001b[0m                                Traceback (most recent call last)",
      "\u001b[1;32m<ipython-input-7-8c96ff923a71>\u001b[0m in \u001b[0;36m<module>\u001b[1;34m()\u001b[0m\n\u001b[1;32m----> 1\u001b[1;33m \u001b[0mn\u001b[0m \u001b[1;33m=\u001b[0m \u001b[0mint\u001b[0m\u001b[1;33m(\u001b[0m\u001b[0minput\u001b[0m\u001b[1;33m(\u001b[0m\u001b[1;33m)\u001b[0m\u001b[1;33m)\u001b[0m\u001b[1;33m\u001b[0m\u001b[0m\n\u001b[0m\u001b[0;32m      2\u001b[0m \u001b[1;33m\u001b[0m\u001b[0m\n\u001b[0;32m      3\u001b[0m \u001b[0marr\u001b[0m \u001b[1;33m=\u001b[0m \u001b[0mlist\u001b[0m\u001b[1;33m(\u001b[0m\u001b[0mmap\u001b[0m\u001b[1;33m(\u001b[0m\u001b[0mint\u001b[0m\u001b[1;33m,\u001b[0m \u001b[0minput\u001b[0m\u001b[1;33m(\u001b[0m\u001b[1;33m)\u001b[0m\u001b[1;33m.\u001b[0m\u001b[0mrstrip\u001b[0m\u001b[1;33m(\u001b[0m\u001b[1;33m)\u001b[0m\u001b[1;33m.\u001b[0m\u001b[0msplit\u001b[0m\u001b[1;33m(\u001b[0m\u001b[1;33m)\u001b[0m\u001b[1;33m)\u001b[0m\u001b[1;33m)\u001b[0m\u001b[1;33m\u001b[0m\u001b[0m\n",
      "\u001b[1;31mValueError\u001b[0m: invalid literal for int() with base 10: ''"
     ]
    }
   ],
   "source": [
    "n = int(input())\n",
    "\n",
    "arr = list(map(int, input().rstrip().split()))"
   ]
  },
  {
   "cell_type": "code",
   "execution_count": 8,
   "metadata": {},
   "outputs": [
    {
     "ename": "NameError",
     "evalue": "name 'arr' is not defined",
     "output_type": "error",
     "traceback": [
      "\u001b[1;31m---------------------------------------------------------------------------\u001b[0m",
      "\u001b[1;31mNameError\u001b[0m                                 Traceback (most recent call last)",
      "\u001b[1;32m<ipython-input-8-94942128010b>\u001b[0m in \u001b[0;36m<module>\u001b[1;34m()\u001b[0m\n\u001b[1;32m----> 1\u001b[1;33m \u001b[0marr\u001b[0m\u001b[1;33m\u001b[0m\u001b[0m\n\u001b[0m\u001b[0;32m      2\u001b[0m \u001b[0mprint\u001b[0m\u001b[1;33m(\u001b[0m\u001b[1;34m\" \"\u001b[0m\u001b[1;33m.\u001b[0m\u001b[0mjoin\u001b[0m\u001b[1;33m(\u001b[0m\u001b[0mmap\u001b[0m\u001b[1;33m(\u001b[0m\u001b[0mstr\u001b[0m\u001b[1;33m,\u001b[0m \u001b[0marr\u001b[0m\u001b[1;33m[\u001b[0m\u001b[1;33m:\u001b[0m\u001b[1;33m:\u001b[0m\u001b[1;33m-\u001b[0m\u001b[1;36m1\u001b[0m\u001b[1;33m]\u001b[0m\u001b[1;33m)\u001b[0m\u001b[1;33m)\u001b[0m\u001b[1;33m)\u001b[0m\u001b[1;33m\u001b[0m\u001b[0m\n",
      "\u001b[1;31mNameError\u001b[0m: name 'arr' is not defined"
     ]
    }
   ],
   "source": [
    "arr\n",
    "print(\" \".join(map(str, arr[::-1])))"
   ]
  },
  {
   "cell_type": "code",
   "execution_count": 11,
   "metadata": {},
   "outputs": [
    {
     "name": "stdout",
     "output_type": "stream",
     "text": [
      "0\n",
      "1\n",
      "2\n",
      "[0, 9, 8, 7, 6, 5]\n"
     ]
    }
   ],
   "source": [
    "a=[5,6,7,8,9,0]\n",
    "c=len(a)\n",
    "\n",
    "\n",
    "for b in range(c//2):#0,3\n",
    "    '''d[b]=a[:(c-(b+1))] #1,2\n",
    "    t=a[c-(b+1)]\n",
    "    a[b]=a[c-(b+1)]'''\n",
    "    print(b)\n",
    "    '''n = a[c-(b+1)]\n",
    "    a[c-(b+1)] = a[b];\n",
    "    a[b] = n;'''\n",
    "    a[b],a[c-(b+1)]=a[c-(b+1)],a[b]\n",
    "print(a)"
   ]
  },
  {
   "cell_type": "code",
   "execution_count": 9,
   "metadata": {},
   "outputs": [
    {
     "name": "stdout",
     "output_type": "stream",
     "text": [
      "4\n",
      "1 2 3 4\n"
     ]
    }
   ],
   "source": [
    "n = int(input())\n",
    "\n",
    "arr = list(map(int, input().rstrip().split()))\n",
    "c=n//2\n",
    "for b in range(c):\n",
    "    arr[b],arr[n-(b+1)]=arr[n-(b+1)],arr[b]\n"
   ]
  },
  {
   "cell_type": "code",
   "execution_count": 10,
   "metadata": {},
   "outputs": [
    {
     "name": "stdout",
     "output_type": "stream",
     "text": [
      "4 3 2 1 "
     ]
    }
   ],
   "source": [
    "for i in arr:\n",
    "        #print(arr[i],end='')\n",
    "        print(i,end=' ')"
   ]
  },
  {
   "cell_type": "code",
   "execution_count": 8,
   "metadata": {},
   "outputs": [
    {
     "name": "stdout",
     "output_type": "stream",
     "text": [
      "4\n",
      "1 2 3 4\n",
      "1 2 3 4 "
     ]
    }
   ],
   "source": [
    " n = int(input())\n",
    "\n",
    "arr = list(map(int, input().rstrip().split()))\n",
    "c=n//2\n",
    "for b in range(n):\n",
    "    arr[b],arr[n-(b+1)]=arr[n-(b+1)],arr[b]\n",
    "\n",
    "for i in arr:\n",
    "    print(i,end=' ')\n"
   ]
  },
  {
   "cell_type": "code",
   "execution_count": 2,
   "metadata": {},
   "outputs": [
    {
     "data": {
      "text/plain": [
       "[5, 4, 3, 2]"
      ]
     },
     "execution_count": 2,
     "metadata": {},
     "output_type": "execute_result"
    }
   ],
   "source": [
    "arr"
   ]
  },
  {
   "cell_type": "code",
   "execution_count": 41,
   "metadata": {},
   "outputs": [
    {
     "name": "stdout",
     "output_type": "stream",
     "text": [
      "4 4 4\n",
      "3 4 4\n"
     ]
    }
   ],
   "source": [
    "a=4\n",
    "b=c\n",
    "c=a\n",
    "print(a,b,c)\n",
    "a=3\n",
    "print(a,b,c)"
   ]
  },
  {
   "cell_type": "code",
   "execution_count": 21,
   "metadata": {},
   "outputs": [
    {
     "data": {
      "text/plain": [
       "[8, 6, 6, 8]"
      ]
     },
     "execution_count": 21,
     "metadata": {},
     "output_type": "execute_result"
    }
   ],
   "source": [
    "#a[0]=a[4-(0+1)]\n",
    "a\n"
   ]
  },
  {
   "cell_type": "code",
   "execution_count": 10,
   "metadata": {},
   "outputs": [
    {
     "name": "stdout",
     "output_type": "stream",
     "text": [
      "range(0, 3)\n"
     ]
    }
   ],
   "source": [
    "print(range(c-1))"
   ]
  },
  {
   "cell_type": "code",
   "execution_count": 10,
   "metadata": {},
   "outputs": [
    {
     "data": {
      "text/plain": [
       "8"
      ]
     },
     "execution_count": 10,
     "metadata": {},
     "output_type": "execute_result"
    }
   ],
   "source": [
    "a[0]"
   ]
  },
  {
   "cell_type": "code",
   "execution_count": 11,
   "metadata": {},
   "outputs": [
    {
     "data": {
      "text/plain": [
       "[8, 5, 6, 8]"
      ]
     },
     "execution_count": 11,
     "metadata": {},
     "output_type": "execute_result"
    }
   ],
   "source": [
    "a"
   ]
  },
  {
   "cell_type": "code",
   "execution_count": 1,
   "metadata": {},
   "outputs": [],
   "source": [
    "d={\"a\":1}"
   ]
  },
  {
   "cell_type": "code",
   "execution_count": 2,
   "metadata": {},
   "outputs": [
    {
     "data": {
      "text/plain": [
       "dict_keys(['a'])"
      ]
     },
     "execution_count": 2,
     "metadata": {},
     "output_type": "execute_result"
    }
   ],
   "source": [
    "d.keys()"
   ]
  },
  {
   "cell_type": "code",
   "execution_count": 3,
   "metadata": {},
   "outputs": [
    {
     "data": {
      "text/plain": [
       "dict_values([1])"
      ]
     },
     "execution_count": 3,
     "metadata": {},
     "output_type": "execute_result"
    }
   ],
   "source": [
    "d.values()"
   ]
  },
  {
   "cell_type": "code",
   "execution_count": 17,
   "metadata": {},
   "outputs": [
    {
     "name": "stdout",
     "output_type": "stream",
     "text": [
      "How many numbers do you want to save:3\n",
      "enter by a spacesam 99199992\n",
      "enter by a spacetom 9876541234\n",
      "enter by a spaceasdfv 12345\n"
     ]
    }
   ],
   "source": [
    "pb={}#phonebook\n",
    "n=int(input(\"How many numbers do you want to save:\"))\n",
    "for i in range(n):\n",
    "    a=input(\"enter by a space:\")\n",
    "    b=a.split()\n",
    "    pb[b[0]]=b[1]\n",
    "    "
   ]
  },
  {
   "cell_type": "code",
   "execution_count": 38,
   "metadata": {},
   "outputs": [
    {
     "name": "stdout",
     "output_type": "stream",
     "text": [
      "sam\n",
      "tom\n",
      "asdfghj\n",
      "0 ['sam', 'tom', 'asdfghj']\n",
      "sam = 99199992\n",
      "1 ['sam', 'tom', 'asdfghj']\n",
      "tom = 9876541234\n",
      "2 ['sam', 'tom', 'asdfghj']\n",
      "Not Found\n"
     ]
    }
   ],
   "source": [
    "q=[]\n",
    "for c in range(n):\n",
    "    j=input()\n",
    "    q.append(j)\n",
    "\n",
    "for p,l in enumerate(q):\n",
    "    if q[p] in pb.keys():\n",
    "        print(q[p],'=',pb[q[p]])\n",
    "    else:\n",
    "        print('Not Found')"
   ]
  },
  {
   "cell_type": "code",
   "execution_count": 35,
   "metadata": {},
   "outputs": [
    {
     "name": "stdout",
     "output_type": "stream",
     "text": [
      "1\n"
     ]
    }
   ],
   "source": [
    "if q[0] in pb.keys():\n",
    "    print(1)"
   ]
  },
  {
   "cell_type": "code",
   "execution_count": 22,
   "metadata": {},
   "outputs": [
    {
     "data": {
      "text/plain": [
       "'123456'"
      ]
     },
     "execution_count": 22,
     "metadata": {},
     "output_type": "execute_result"
    }
   ],
   "source": [
    "d[q[0]]"
   ]
  },
  {
   "cell_type": "code",
   "execution_count": 12,
   "metadata": {},
   "outputs": [
    {
     "name": "stdout",
     "output_type": "stream",
     "text": [
      "enter by a spacea:123456\n"
     ]
    },
    {
     "data": {
      "text/plain": [
       "'a:123456'"
      ]
     },
     "execution_count": 12,
     "metadata": {},
     "output_type": "execute_result"
    }
   ],
   "source": [
    "a=input(\"enter by a space\")\n",
    "b=a.split(sep=':')\n",
    "a.strip(\":\")"
   ]
  },
  {
   "cell_type": "code",
   "execution_count": 13,
   "metadata": {},
   "outputs": [
    {
     "data": {
      "text/plain": [
       "['a', '123456']"
      ]
     },
     "execution_count": 13,
     "metadata": {},
     "output_type": "execute_result"
    }
   ],
   "source": [
    "b"
   ]
  },
  {
   "cell_type": "code",
   "execution_count": 14,
   "metadata": {},
   "outputs": [
    {
     "data": {
      "text/plain": [
       "dict_keys(['a'])"
      ]
     },
     "execution_count": 14,
     "metadata": {},
     "output_type": "execute_result"
    }
   ],
   "source": [
    "d.keys()"
   ]
  },
  {
   "cell_type": "code",
   "execution_count": 15,
   "metadata": {},
   "outputs": [],
   "source": [
    "d[b[0]]=b[1]"
   ]
  },
  {
   "cell_type": "code",
   "execution_count": 16,
   "metadata": {},
   "outputs": [
    {
     "data": {
      "text/plain": [
       "{'a': '123456'}"
      ]
     },
     "execution_count": 16,
     "metadata": {},
     "output_type": "execute_result"
    }
   ],
   "source": [
    "d"
   ]
  },
  {
   "cell_type": "code",
   "execution_count": 13,
   "metadata": {},
   "outputs": [
    {
     "name": "stdout",
     "output_type": "stream",
     "text": [
      "seeds:\n",
      " [[8.65887983e+01 5.93055276e+01]\n",
      " [5.69284680e+01 2.03647113e+01]\n",
      " [8.61882850e+01 8.65031056e+01]\n",
      " [6.41660640e+01 1.06897837e+01]\n",
      " [4.78097282e+00 1.90184862e+01]\n",
      " [3.52298167e+01 7.19470234e+00]\n",
      " [9.10479830e+01 5.80357703e+01]\n",
      " [4.99620392e+01 1.62852922e+01]\n",
      " [3.07666402e+01 3.82546912e+01]\n",
      " [4.59400944e+01 9.73471945e+01]\n",
      " [1.29443663e+01 3.32519378e+01]\n",
      " [2.55579591e+00 7.90815878e+01]\n",
      " [2.39381713e+01 7.21070769e+01]\n",
      " [3.84171220e+01 7.28809963e+01]\n",
      " [9.13141751e+01 5.14731930e+01]\n",
      " [7.90083309e+01 5.70744115e+01]\n",
      " [8.83838566e+01 7.24014588e+01]\n",
      " [8.51506707e+01 7.29678089e+01]\n",
      " [3.67659616e+01 3.82091093e+01]\n",
      " [8.45452671e+01 9.85434151e+01]\n",
      " [2.10319767e+01 5.48050340e+01]\n",
      " [1.11629606e+00 6.91362790e+01]\n",
      " [1.13102829e+01 5.05041739e-03]\n",
      " [3.08631151e+01 5.82875137e+01]\n",
      " [2.86230999e+00 6.09028320e+01]\n",
      " [4.38340165e+01 1.81136851e+01]\n",
      " [6.08427527e+01 3.79592420e+00]\n",
      " [8.53488792e+01 4.99961758e+01]\n",
      " [3.22325651e+01 3.28684796e+01]\n",
      " [1.95009595e+01 5.93202253e+01]\n",
      " [8.95729715e+00 9.87249491e+01]\n",
      " [1.50944850e+01 4.79434698e+00]\n",
      " [3.94521291e+01 9.00111036e+01]\n",
      " [4.96768232e+01 3.55808688e+00]\n",
      " [4.67493549e+01 8.54478610e+01]\n",
      " [5.97937479e+00 2.45588126e+01]\n",
      " [8.76399090e+01 9.95006954e+01]\n",
      " [5.89196685e+01 5.30868329e+01]\n",
      " [1.28608438e+01 3.71565418e+01]\n",
      " [5.18995268e+01 1.39121062e+01]\n",
      " [2.71910754e+01 7.95903784e+01]\n",
      " [5.55605479e+00 2.57729503e+01]\n",
      " [9.68796253e-01 5.19761569e+01]\n",
      " [8.94067973e+01 9.80823933e+01]\n",
      " [9.68209795e+01 9.28056467e+01]\n",
      " [3.89691783e+01 8.87099877e+01]\n",
      " [6.11935912e+01 7.64844529e+01]\n",
      " [7.03783310e+00 9.35951200e+01]\n",
      " [1.92149568e+01 1.41471012e+01]\n",
      " [9.17830412e+01 7.70974921e+01]]\n",
      "BBox Min: [0.96879625 0.00505042] Bbox Max:  [96.82097952 99.50069543]\n",
      "87 Delaunay triangles\n"
     ]
    },
    {
     "data": {
      "image/png": "[encoded data removed]",
      "text/plain": [
       "<Figure size 432x288 with 1 Axes>"
      ]
     },
     "metadata": {},
     "output_type": "display_data"
    }
   ],
   "source": [
    "import numpy as np\n",
    "from delaunay2D import Delaunay2D\n",
    "\n",
    "if __name__ == '__main__':\n",
    "\n",
    "    ###########################################################\n",
    "    # Generate 'numSeeds' random seeds in a square of size 'radius'\n",
    "    numSeeds = 50\n",
    "    radius = 100\n",
    "    seeds = radius * np.random.random((numSeeds, 2))\n",
    "    print(\"seeds:\\n\", seeds)\n",
    "    print(\"BBox Min:\", np.amin(seeds, axis=0),\n",
    "          \"Bbox Max: \", np.amax(seeds, axis=0))\n",
    "\n",
    "    \"\"\"\n",
    "    Compute our Delaunay triangulation of seeds.\n",
    "    \"\"\"\n",
    "    # It is recommended to build a frame taylored for our data\n",
    "    # dt = D.Delaunay2D() # Default frame\n",
    "    center = np.mean(seeds, axis=0)\n",
    "    dt = Delaunay2D(center, 50 * radius)\n",
    "    \n",
    "    # Insert all seeds one by one\n",
    "    for s in seeds:\n",
    "        dt.addPoint(s)\n",
    "\n",
    "    # Dump number of DT triangles\n",
    "    print (len(dt.exportTriangles()), \"Delaunay triangles\")\n",
    "       \n",
    "    \"\"\"\n",
    "    Demostration of how to plot the data.\n",
    "    \"\"\"\n",
    "    import matplotlib.pyplot as plt\n",
    "    import matplotlib.tri\n",
    "    import matplotlib.collections\n",
    "\n",
    "    # Create a plot with matplotlib.pyplot\n",
    "    fig, ax = plt.subplots()\n",
    "    ax.margins(0.1)\n",
    "    ax.set_aspect('equal')\n",
    "    plt.axis([-1, radius+1, -1, radius+1])\n",
    "\n",
    "    # Plot our Delaunay triangulation (plot in blue)\n",
    "    cx, cy = zip(*seeds)\n",
    "    dt_tris = dt.exportTriangles()\n",
    "    ax.triplot(matplotlib.tri.Triangulation(cx, cy, dt_tris), 'bo--')\n",
    "\n",
    "    # Plot annotated Delaunay vertex (seeds)\n",
    "    \"\"\"\n",
    "    for i, v in enumerate(seeds):\n",
    "        plt.annotate(i, xy=v)\n",
    "    \"\"\"\n",
    "        \n",
    "    # DEBUG: Use matplotlib to create a Delaunay triangulation (plot in green)\n",
    "    # DEBUG: It should be equal to our result in dt_tris (plot in blue)\n",
    "    # DEBUG: If boundary is diferent, try to increase the value of your margin\n",
    "    # ax.triplot(matplotlib.tri.Triangulation(*zip(*seeds)), 'g--')\n",
    "    \n",
    "    # DEBUG: plot the extended triangulation (plot in red)\n",
    "    # edt_coords, edt_tris = dt.exportExtendedDT()\n",
    "    # edt_x, edt_y = zip(*edt_coords)\n",
    "    # ax.triplot(matplotlib.tri.Triangulation(edt_x, edt_y, edt_tris), 'ro-.')\n",
    "\n",
    "    # Plot the circumcircles (circles in black)\n",
    "    '''\n",
    "    for c, r in dt.exportCircles():\n",
    "        ax.add_artist(plt.Circle(c, r, color='k', fill=False, ls='dotted'))\n",
    "    \n",
    "    '''\n",
    "    # Build Voronoi diagram as a list of coordinates and regions\n",
    "    vc, vr = dt.exportVoronoiRegions()\n",
    "    \n",
    "    # Plot annotated voronoi vertex\n",
    "    \"\"\"\n",
    "    plt.scatter([v[0] for v in vc], [v[1] for v in vc], marker='.')\n",
    "    for i, v in enumerate(vc):\n",
    "        plt.annotate(i, xy=v)\n",
    "    \"\"\"\n",
    "    \n",
    "    # Plot annotated voronoi regions as filled polygons\n",
    "    \"\"\"\n",
    "    for r in vr:\n",
    "        polygon = [vc[i] for i in vr[r]]     # Build polygon for each region\n",
    "        plt.fill(*zip(*polygon), alpha=0.2)  # Plot filled polygon\n",
    "        plt.annotate(\"r%d\" % r, xy=np.average(polygon, axis=0))\n",
    "    \"\"\"\n",
    "\n",
    "    # Plot voronoi diagram edges (in red)\n",
    "    for r in vr:\n",
    "        polygon = [vc[i] for i in vr[r]]       # Build polygon for each region\n",
    "        plt.plot(*zip(*polygon), color=\"red\")  # Plot polygon edges in red\n",
    "    \n",
    "    # Dump plot to file\n",
    "    # plt.savefig('output-delaunay2D.png', dpi=96)\n",
    "    # plt.savefig('output-delaunay2D.svg', dpi=96)\n",
    "\n",
    "    plt.show()\n",
    "\n",
    "    # Plot a step-by-step triangulation\n",
    "    '''\n",
    "    # Starts from a new Delaunay2D frame\n",
    "    dt2 = Delaunay2D(center, 50 * radius)    \n",
    "    for i,s in enumerate(seeds):\n",
    "        print(\"Inserting seed\", i, s)\n",
    "        dt2.addPoint(s)\n",
    "        if i > 1:\n",
    "            fig, ax = plt.subplots()\n",
    "            ax.margins(0.1)\n",
    "            ax.set_aspect('equal')\n",
    "            plt.axis([-1, radius+1, -1, radius+1])            \n",
    "            for i, v in enumerate(seeds):\n",
    "                plt.annotate(i, xy=v)              # Plot all seeds\n",
    "            for t in dt2.exportTriangles():\n",
    "                polygon = [seeds[i] for i in t]     # Build polygon for each region\n",
    "                plt.fill(*zip(*polygon), fill=False, color=\"b\")  # Plot filled polygon\n",
    "            plt.show()\n",
    "    '''"
   ]
  },
  {
   "cell_type": "code",
   "execution_count": 12,
   "metadata": {},
   "outputs": [
    {
     "ename": "TypeError",
     "evalue": "'str' object doesn't support item deletion",
     "output_type": "error",
     "traceback": [
      "\u001b[1;31m---------------------------------------------------------------------------\u001b[0m",
      "\u001b[1;31mTypeError\u001b[0m                                 Traceback (most recent call last)",
      "\u001b[1;32m<ipython-input-12-4a663882fa65>\u001b[0m in \u001b[0;36m<module>\u001b[1;34m()\u001b[0m\n\u001b[0;32m      3\u001b[0m \u001b[1;32mfor\u001b[0m \u001b[0mi\u001b[0m\u001b[1;33m,\u001b[0m\u001b[0mb\u001b[0m \u001b[1;32min\u001b[0m \u001b[0menumerate\u001b[0m\u001b[1;33m(\u001b[0m\u001b[0ms\u001b[0m\u001b[1;33m)\u001b[0m\u001b[1;33m:\u001b[0m\u001b[1;33m\u001b[0m\u001b[0m\n\u001b[0;32m      4\u001b[0m     \u001b[1;32mif\u001b[0m \u001b[0mb\u001b[0m\u001b[1;33m==\u001b[0m\u001b[0ms\u001b[0m\u001b[1;33m[\u001b[0m\u001b[1;36m1\u001b[0m\u001b[1;33m+\u001b[0m\u001b[0mi\u001b[0m\u001b[1;33m]\u001b[0m\u001b[1;33m:\u001b[0m\u001b[1;33m\u001b[0m\u001b[0m\n\u001b[1;32m----> 5\u001b[1;33m         \u001b[1;32mdel\u001b[0m \u001b[0ms\u001b[0m\u001b[1;33m[\u001b[0m\u001b[0mi\u001b[0m\u001b[1;33m]\u001b[0m\u001b[1;33m\u001b[0m\u001b[0m\n\u001b[0m\u001b[0;32m      6\u001b[0m     \u001b[1;32melse\u001b[0m\u001b[1;33m:\u001b[0m\u001b[1;33m\u001b[0m\u001b[0m\n\u001b[0;32m      7\u001b[0m         \u001b[1;32mpass\u001b[0m\u001b[1;33m\u001b[0m\u001b[0m\n",
      "\u001b[1;31mTypeError\u001b[0m: 'str' object doesn't support item deletion"
     ]
    }
   ],
   "source": [
    "s=\"AAABBB\"\n",
    "a=list()\n",
    "for i,b in enumerate(s):\n",
    "    if b==s[1+i]:\n",
    "        del s[i]\n",
    "    else:\n",
    "        pass\n",
    "        \n",
    "    a.append(b)\n",
    "    \n",
    "    \n"
   ]
  },
  {
   "cell_type": "code",
   "execution_count": 6,
   "metadata": {},
   "outputs": [
    {
     "data": {
      "text/plain": [
       "['A', 'A', 'B', 'B', 'B']"
      ]
     },
     "execution_count": 6,
     "metadata": {},
     "output_type": "execute_result"
    }
   ],
   "source": [
    "a"
   ]
  },
  {
   "cell_type": "code",
   "execution_count": null,
   "metadata": {},
   "outputs": [],
   "source": []
  }
 ],
 "metadata": {
  "kernelspec": {
   "display_name": "Python 3",
   "language": "python",
   "name": "python3"
  },
  "language_info": {
   "codemirror_mode": {
    "name": "ipython",
    "version": 3
   },
   "file_extension": ".py",
   "mimetype": "text/x-python",
   "name": "python",
   "nbconvert_exporter": "python",
   "pygments_lexer": "ipython3",
   "version": "3.6.5"
  }
 },
 "nbformat": 4,
 "nbformat_minor": 2
}
