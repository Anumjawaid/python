{
 "cells": [
  {
   "cell_type": "markdown",
   "metadata": {},
   "source": [
    "# Data Files Read Write"
   ]
  },
  {
   "cell_type": "code",
   "execution_count": 4,
   "metadata": {},
   "outputs": [],
   "source": [
    "with open(\"abcd.txt\", \"w\") as f: #handler\n",
    "    f.write(\"I m writing in this file for the first time\")\n",
    "    "
   ]
  },
  {
   "cell_type": "code",
   "execution_count": 5,
   "metadata": {},
   "outputs": [],
   "source": [
    "with open(\"emptyfile.txt\", \"w\") as f: #handler\n",
    "    f.write(\"I m writing in this file for the first time\")\n",
    "    "
   ]
  },
  {
   "cell_type": "code",
   "execution_count": 14,
   "metadata": {},
   "outputs": [],
   "source": [
    "with open(\"emptyfile.txt\", \"w\") as f: #handler\n",
    "    f.write(\"I m writing in this file for the second time\")\n",
    "    f.write(\"This will not be overwrite\")\n",
    "    #f.read()\n",
    "    "
   ]
  },
  {
   "cell_type": "code",
   "execution_count": 13,
   "metadata": {},
   "outputs": [
    {
     "name": "stdout",
     "output_type": "stream",
     "text": [
      "I m writing in this file for the second timeThis will not be overwrite\n"
     ]
    }
   ],
   "source": [
    "with open(\"emptyfile.txt\", \"r\") as file:\n",
    "    content  = file.read()\n",
    "    #file.write(\"hello\")\n",
    "print(content)"
   ]
  },
  {
   "cell_type": "code",
   "execution_count": 10,
   "metadata": {},
   "outputs": [],
   "source": [
    "with open('emptyfile.txt', \"a\") as f:\n",
    "    f.write(\"This is an appended text\")"
   ]
  },
  {
   "cell_type": "code",
   "execution_count": 17,
   "metadata": {},
   "outputs": [
    {
     "name": "stdout",
     "output_type": "stream",
     "text": [
      "['This iis a mode']\n"
     ]
    }
   ],
   "source": [
    "with open(\"myTextFile.txt\", \"r+\") as f:\n",
    "    f.write(\"This iis a mode\")\n",
    "    f.seek(0)\n",
    "    content = f.readlines()\n",
    "    print(content)\n"
   ]
  },
  {
   "cell_type": "code",
   "execution_count": 16,
   "metadata": {},
   "outputs": [
    {
     "name": "stdout",
     "output_type": "stream",
     "text": [
      "\n"
     ]
    }
   ],
   "source": [
    "with open(\"afile.txt\", \"w+\") as file:\n",
    "    #file.write(\"Pakistan\")\n",
    "    file.seek(0)\n",
    "    content = file.read()\n",
    "    print(content)"
   ]
  },
  {
   "cell_type": "code",
   "execution_count": 32,
   "metadata": {},
   "outputs": [
    {
     "name": "stdout",
     "output_type": "stream",
     "text": [
      "[1, 4, 9, 16, 25, 36]\n"
     ]
    }
   ],
   "source": [
    "a = [1,2,3,4,5,6]\n",
    "\n",
    "sqaure=[]\n",
    "\n",
    "for num in a:\n",
    "    sqaure.append(num**2)\n",
    "    \n",
    "print(sqaure)"
   ]
  },
  {
   "cell_type": "markdown",
   "metadata": {},
   "source": [
    "# List Comprehension"
   ]
  },
  {
   "cell_type": "code",
   "execution_count": 33,
   "metadata": {},
   "outputs": [
    {
     "data": {
      "text/plain": [
       "[1, 4, 9, 16, 25, 36]"
      ]
     },
     "execution_count": 33,
     "metadata": {},
     "output_type": "execute_result"
    }
   ],
   "source": [
    "[num**2 for num in a]"
   ]
  },
  {
   "cell_type": "code",
   "execution_count": 19,
   "metadata": {},
   "outputs": [
    {
     "name": "stdout",
     "output_type": "stream",
     "text": [
      "7\n"
     ]
    },
    {
     "ename": "SyntaxError",
     "evalue": "'return' outside function (<ipython-input-19-5498b52877ad>, line 14)",
     "output_type": "error",
     "traceback": [
      "\u001b[1;36m  File \u001b[1;32m\"<ipython-input-19-5498b52877ad>\"\u001b[1;36m, line \u001b[1;32m14\u001b[0m\n\u001b[1;33m    return c\u001b[0m\n\u001b[1;37m    ^\u001b[0m\n\u001b[1;31mSyntaxError\u001b[0m\u001b[1;31m:\u001b[0m 'return' outside function\n"
     ]
    }
   ],
   "source": [
    "\n",
    "arr=[2,5,7,8,9,3,8]\n",
    "print(len(arr))\n",
    "a=6\n",
    "arr = [2, 7, 11, 15]\n",
    "a = 9\n",
    "#check if the sum exist or not\n",
    "def\n",
    "for i in range(len(arr)):\n",
    "    for j in range(len(arr)):\n",
    "        sum = arr[i]+arr[j]\n",
    "        if sum==a:\n",
    "            c=[arr[i],arr[j]]\n",
    "            return c\n",
    "            \n",
    "    \n",
    "print(\"kjhgxz\")    "
   ]
  },
  {
   "cell_type": "code",
   "execution_count": 10,
   "metadata": {},
   "outputs": [],
   "source": [
    "arr = [2, 7, 11, 15]\n",
    "a = 9\n",
    "#check if the sum exist or not\n",
    "\n",
    "#for i in range(len(arr)):\n",
    "    #for i,j in range(len(arr)):\n",
    " #   sum = arr[i]+arr[j]\n",
    "  #  if sum==a:\n",
    "        \n",
    "   #     c=[arr[i],arr[j]]\n",
    "    #    print(c)\n",
    "#'''' ###    \n",
    "nums= [2, 7, 11, 15]\n",
    "target= 9    \n",
    "seen = {}\n",
    "for i, v in enumerate(nums):\n",
    "    \n",
    "    remaining = target - v\n",
    "    if remaining in seen:\n",
    "        \n",
    "        print([seen[remaining], i])\n",
    "        seen[v] = i\n"
   ]
  },
  {
   "cell_type": "code",
   "execution_count": 34,
   "metadata": {},
   "outputs": [
    {
     "ename": "IndentationError",
     "evalue": "unexpected indent (<ipython-input-34-65947127ea0c>, line 10)",
     "output_type": "error",
     "traceback": [
      "\u001b[1;36m  File \u001b[1;32m\"<ipython-input-34-65947127ea0c>\"\u001b[1;36m, line \u001b[1;32m10\u001b[0m\n\u001b[1;33m    print( c)\u001b[0m\n\u001b[1;37m    ^\u001b[0m\n\u001b[1;31mIndentationError\u001b[0m\u001b[1;31m:\u001b[0m unexpected indent\n"
     ]
    }
   ],
   "source": [
    "  def twoSum(self, nums, target) :\n",
    "        \n",
    "        for i in range(len(nums)):\n",
    "            for j in range(len(nums)):\n",
    "                         \n",
    "                target = nums[i]+nums[j]\n",
    "                if target==a:\n",
    "                    \n",
    "                    c=[nums[i],nums[j]]\n",
    "                      print( c)\n",
    "        \n",
    "       \n",
    "            \n",
    "    \n",
    "        \n"
   ]
  },
  {
   "cell_type": "code",
   "execution_count": 35,
   "metadata": {},
   "outputs": [],
   "source": [
    "def twoSum(self, nums, target):\n",
    "        seen = {}\n",
    "        for i, v in enumerate(nums):\n",
    "            remaining = target - v\n",
    "            if remaining in seen:\n",
    "                return [seen[remaining], i]\n",
    "            seen[v] = i\n",
    "        return []"
   ]
  },
  {
   "cell_type": "code",
   "execution_count": 3,
   "metadata": {},
   "outputs": [
    {
     "name": "stdout",
     "output_type": "stream",
     "text": [
      "0\n",
      "14\n",
      "1\n",
      "5\n",
      "2\n",
      "67\n",
      "3\n",
      "8\n"
     ]
    }
   ],
   "source": [
    "nums=[14,5,67,8]\n",
    "for i, v in enumerate(nums):\n",
    "    print(i)\n",
    "    print(v)\n"
   ]
  },
  {
   "cell_type": "code",
   "execution_count": 1,
   "metadata": {},
   "outputs": [],
   "source": [
    "#sorted and sort"
   ]
  },
  {
   "cell_type": "code",
   "execution_count": 2,
   "metadata": {},
   "outputs": [
    {
     "data": {
      "text/plain": [
       "[1, 3, 6, 9]"
      ]
     },
     "execution_count": 2,
     "metadata": {},
     "output_type": "execute_result"
    }
   ],
   "source": [
    "numbers=[6,9,3,1]\n",
    "sorted(numbers)#not inplace"
   ]
  },
  {
   "cell_type": "code",
   "execution_count": 3,
   "metadata": {},
   "outputs": [
    {
     "data": {
      "text/plain": [
       "[1, 3, 6, 9]"
      ]
     },
     "execution_count": 3,
     "metadata": {},
     "output_type": "execute_result"
    }
   ],
   "source": [
    "tuples=(6,9,3,1)\n",
    "sets={5,5,10,1,0}\n",
    "sorted(tuples)"
   ]
  },
  {
   "cell_type": "code",
   "execution_count": null,
   "metadata": {},
   "outputs": [],
   "source": []
  }
 ],
 "metadata": {
  "kernelspec": {
   "display_name": "Python 3",
   "language": "python",
   "name": "python3"
  },
  "language_info": {
   "codemirror_mode": {
    "name": "ipython",
    "version": 3
   },
   "file_extension": ".py",
   "mimetype": "text/x-python",
   "name": "python",
   "nbconvert_exporter": "python",
   "pygments_lexer": "ipython3",
   "version": "3.6.5"
  }
 },
 "nbformat": 4,
 "nbformat_minor": 2
}
