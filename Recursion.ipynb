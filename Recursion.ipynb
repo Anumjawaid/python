{
 "cells": [
  {
   "cell_type": "code",
   "execution_count": 2,
   "metadata": {},
   "outputs": [],
   "source": []
  },
  {
   "cell_type": "code",
   "execution_count": 42,
   "metadata": {},
   "outputs": [],
   "source": [
    "def listSum(numbers):\n",
    "#     global a\n",
    "#     a=0\n",
    "    #print(\"l4\",not numbers)\n",
    "    if not numbers:\n",
    "        #print(\"if\",numbers)\n",
    "        return 0\n",
    "    else:\n",
    "        (f, rest) = numbers\n",
    "        a=f + listSum(rest)\n",
    "     #   print(\"else\",numbers,a)\n",
    "        return a\n",
    "\n",
    "myList = (1, (2, (3, None)))\n",
    "total = listSum(myList)"
   ]
  },
  {
   "cell_type": "code",
   "execution_count": 41,
   "metadata": {},
   "outputs": [
    {
     "data": {
      "text/plain": [
       "6"
      ]
     },
     "execution_count": 41,
     "metadata": {},
     "output_type": "execute_result"
    }
   ],
   "source": [
    "def Factorial(n):\n",
    "    if n==1:\n",
    "        return 1\n",
    "    else:\n",
    "        a=n*Factorial(n-1)\n",
    "        return a\n",
    "Factorial(3)"
   ]
  }
 ],
 "metadata": {
  "kernelspec": {
   "display_name": "Python 3",
   "language": "python",
   "name": "python3"
  },
  "language_info": {
   "codemirror_mode": {
    "name": "ipython",
    "version": 3
   },
   "file_extension": ".py",
   "mimetype": "text/x-python",
   "name": "python",
   "nbconvert_exporter": "python",
   "pygments_lexer": "ipython3",
   "version": "3.6.5"
  }
 },
 "nbformat": 4,
 "nbformat_minor": 2
}
