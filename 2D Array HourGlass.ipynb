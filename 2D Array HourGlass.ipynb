{
 "cells": [
  {
   "cell_type": "code",
   "execution_count": 1,
   "metadata": {},
   "outputs": [
    {
     "name": "stdout",
     "output_type": "stream",
     "text": [
      "-1 -1 0 -9 -2 -2\n",
      "-2 -1 -6 -8 -2 -5\n",
      "-1 -1 -1 -2 -3 -4\n",
      "-1 -9 -2 -4 -4 -5\n",
      "-7 -3 -3 -2 -9 -9\n",
      "-1 -3 -1 -2 -4 -5\n"
     ]
    }
   ],
   "source": [
    "arr = []\n",
    "\n",
    "for _ in range(6):\n",
    "    arr.append(list(map(int, input().rstrip().split())))"
   ]
  },
  {
   "cell_type": "code",
   "execution_count": null,
   "metadata": {},
   "outputs": [],
   "source": [
    "-1 -1 0 -9 -2 -2\n",
    "-2 -1 -6 -8 -2 -5\n",
    "-1 -1 -1 -2 -3 -4\n",
    "-1 -9 -2 -4 -4 -5\n",
    "-7 -3 -3 -2 -9 -9\n",
    "-1 -3 -1 -2 -4 -5"
   ]
  },
  {
   "cell_type": "code",
   "execution_count": 2,
   "metadata": {},
   "outputs": [
    {
     "data": {
      "text/plain": [
       "[[-1, -1, 0, -9, -2, -2],\n",
       " [-2, -1, -6, -8, -2, -5],\n",
       " [-1, -1, -1, -2, -3, -4],\n",
       " [-1, -9, -2, -4, -4, -5],\n",
       " [-7, -3, -3, -2, -9, -9],\n",
       " [-1, -3, -1, -2, -4, -5]]"
      ]
     },
     "execution_count": 2,
     "metadata": {},
     "output_type": "execute_result"
    }
   ],
   "source": [
    "# 1 1 1 0 0 0\n",
    "# 0 1 0 0 0 0\n",
    "# 1 1 1 0 0 0\n",
    "# 0 9 2 -4 -4 0\n",
    "# 0 0 0 -2 0 0\n",
    "# 0 0 -1 -2 -4 0\n",
    "arr\n"
   ]
  },
  {
   "cell_type": "code",
   "execution_count": null,
   "metadata": {},
   "outputs": [],
   "source": [
    "# fil=[]\n",
    "# fil.append(arr[0][0:3])\n",
    "# fil.append(arr[1][0:3])\n",
    "# fil.append(arr[2][0:3])\n",
    "# print(fil)\n",
    "# fil[1][0]=0\n",
    "# fil[1][2]=0\n",
    "print(9+2-4-2-1)\n",
    "print(2-4-4-2-1-2-4)\n",
    "print(-4-4-2-4\n",
    "     \n",
    "     )"
   ]
  },
  {
   "cell_type": "code",
   "execution_count": 8,
   "metadata": {},
   "outputs": [
    {
     "name": "stdout",
     "output_type": "stream",
     "text": [
      "-6\n"
     ]
    }
   ],
   "source": [
    "a=0\n",
    "i=0\n",
    "fil=[]\n",
    "result=-1\n",
    "count=[]\n",
    "while a<4:\n",
    "    #print(\"i run with \",a,i)\n",
    "    for i in range(5):\n",
    "        #print(\"inside this\",i)\n",
    "        fil.append(arr[a][i:3+i])\n",
    "        fil.append(arr[a+1][i+1:2+i])\n",
    "        fil.append(arr[a+2][i:3+i])\n",
    "        count.append(sum(fil[0]+fil[1]+fil[2]))\n",
    "        #print(\"coming with \",count)\n",
    "        fil=[]\n",
    "    a+=1\n",
    "    i=0\n",
    "    result=max(count)\n",
    "\n",
    "    #print(\"coming with \",count,result)\n",
    "    \n",
    "print(result)"
   ]
  },
  {
   "cell_type": "code",
   "execution_count": null,
   "metadata": {},
   "outputs": [],
   "source": []
  }
 ],
 "metadata": {
  "kernelspec": {
   "display_name": "Python 3",
   "language": "python",
   "name": "python3"
  },
  "language_info": {
   "codemirror_mode": {
    "name": "ipython",
    "version": 3
   },
   "file_extension": ".py",
   "mimetype": "text/x-python",
   "name": "python",
   "nbconvert_exporter": "python",
   "pygments_lexer": "ipython3",
   "version": "3.6.5"
  }
 },
 "nbformat": 4,
 "nbformat_minor": 2
}
