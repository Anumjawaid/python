{
 "cells": [
  {
   "cell_type": "markdown",
   "metadata": {},
   "source": [
    "### slicing a sequence[list,tuple,array]"
   ]
  },
  {
   "cell_type": "code",
   "execution_count": 31,
   "metadata": {},
   "outputs": [
    {
     "name": "stdout",
     "output_type": "stream",
     "text": [
      "[6, 8, 10, 12, 14, 16, 18, 20]\n",
      "[2, 6, 10, 14]\n",
      "[0, 2, 4, 6, 8]\n",
      "[18, 20]\n",
      "[0, 2, 4, 6, 8, 10, 12, 14, 16, 18, 20]\n",
      "[0, 2, 4, 6, 8, 10, 12, 14, 16, 18]\n"
     ]
    }
   ],
   "source": [
    "a = [0, 2, 4, 6, 8, 10, 12, 14, 16, 18, 20]\n",
    "# Using a range, [start, end)\n",
    "print(a[3:])\n",
    "# Using a range with a step\n",
    "print(a[1:9:2])#[start,end,step]\n",
    "# Leave out the start = an implicit start of 0\n",
    "print(a[:5])\n",
    "# Leave out the stop = an implict end to the very last item\n",
    "print(a[9:])\n",
    "# Entire list\n",
    "print(a[:])\n",
    "#another method \n",
    "print(a[0:-1])\n"
   ]
  },
  {
   "cell_type": "markdown",
   "metadata": {},
   "source": [
    "### Reverse a Sequence"
   ]
  },
  {
   "cell_type": "code",
   "execution_count": 30,
   "metadata": {},
   "outputs": [
    {
     "name": "stdout",
     "output_type": "stream",
     "text": [
      "(5, 4, 3, 2, 1)\n",
      "trats\n"
     ]
    }
   ],
   "source": [
    "a = (1, 2, 3, 4, 5)\n",
    "print(a[::-1])\n",
    "b = 'start'\n",
    "print(b[::-1])"
   ]
  },
  {
   "cell_type": "markdown",
   "metadata": {},
   "source": [
    "### Access an Element in a Sequence Using the Reverse Index"
   ]
  },
  {
   "cell_type": "code",
   "execution_count": 35,
   "metadata": {},
   "outputs": [
    {
     "name": "stdout",
     "output_type": "stream",
     "text": [
      "!\n",
      "!\n",
      "WORLD\n"
     ]
    }
   ],
   "source": [
    "a=\"HELLO WORLD!\"\n",
    "print(a[len(a)-1])\n",
    "print(a[-1])\n",
    "#printworld from reverse index\n",
    "print(a[6:-1])"
   ]
  },
  {
   "cell_type": "markdown",
   "metadata": {},
   "source": [
    "### Multiple Assignments"
   ]
  },
  {
   "cell_type": "code",
   "execution_count": 38,
   "metadata": {},
   "outputs": [
    {
     "name": "stdout",
     "output_type": "stream",
     "text": [
      "a is 5; b is 8\n",
      "[5, 2, 3, 4, 1]\n"
     ]
    }
   ],
   "source": [
    "# instead of doing a = 8; b = 5\n",
    "a, b = 8, 5\n",
    "# Swap two variables\n",
    "a, b = b, a\n",
    "print(f'a is {a}; b is {b}')\n",
    " # Swap the first and last elements in a list\n",
    "numbers = [1, 2, 3, 4, 5]\n",
    "numbers[0],numbers[-1]=numbers[-1],numbers[0]\n",
    "print(numbers)"
   ]
  },
  {
   "cell_type": "markdown",
   "metadata": {},
   "source": [
    "### Check if a Sequence Is Empty "
   ]
  },
  {
   "cell_type": "code",
   "execution_count": 41,
   "metadata": {},
   "outputs": [
    {
     "name": "stdout",
     "output_type": "stream",
     "text": [
      "() with type <class 'tuple'> is empty\n",
      " with type <class 'str'> is empty\n",
      "[] with type <class 'list'> is empty\n",
      "{} with type <class 'dict'> is empty\n",
      "set() with type <class 'set'> is empty\n"
     ]
    }
   ],
   "source": [
    "empty_list = [(), '', [], {}, set()]\n",
    "for item in empty_list:\n",
    "    if not item:\n",
    "        print(f'{item} with type {type(item)} is empty')"
   ]
  },
  {
   "cell_type": "markdown",
   "metadata": {},
   "source": [
    "###  List Comprehensions"
   ]
  },
  {
   "cell_type": "code",
   "execution_count": 51,
   "metadata": {},
   "outputs": [
    {
     "name": "stdout",
     "output_type": "stream",
     "text": [
      "[2, 4, 6, 8, 10]\n",
      "[3, 9, 15]\n",
      "['ODD', 'EVEN', 'ODD', 'EVEN', 'ODD']\n"
     ]
    }
   ],
   "source": [
    "a = [1, 2, 3, 4, 5]\n",
    "print([x*2 for x in a])\n",
    "#if condition\n",
    "print([x*3 for x in a if x%2 == 1])\n",
    "#if else\n",
    "print(['EVEN' if x%2==0 else 'ODD' for x in a])\n"
   ]
  },
  {
   "cell_type": "markdown",
   "metadata": {},
   "source": [
    "### Set Comprehensions"
   ]
  },
  {
   "cell_type": "code",
   "execution_count": 2,
   "metadata": {},
   "outputs": [
    {
     "data": {
      "text/plain": [
       "{1, 4, 9, 16, 25, 36, 49}"
      ]
     },
     "execution_count": 2,
     "metadata": {},
     "output_type": "execute_result"
    }
   ],
   "source": [
    "a=[1,2,3,4,5,6,7]\n",
    "s={x*x for x in a}\n",
    "s"
   ]
  },
  {
   "cell_type": "markdown",
   "metadata": {},
   "source": [
    "### Dictionary Comprehension"
   ]
  },
  {
   "cell_type": "code",
   "execution_count": 8,
   "metadata": {},
   "outputs": [
    {
     "data": {
      "text/plain": [
       "{1: 1, 2: 4, 3: 9, 4: 16, 5: 25, 6: 36, 7: 49}"
      ]
     },
     "execution_count": 8,
     "metadata": {},
     "output_type": "execute_result"
    }
   ],
   "source": [
    "a=[1,2,3,4,5,6,7]\n",
    "s={x:x*x for x in a}\n",
    "s\n"
   ]
  },
  {
   "cell_type": "markdown",
   "metadata": {},
   "source": [
    "### Generator Expression"
   ]
  },
  {
   "cell_type": "markdown",
   "metadata": {},
   "source": [
    "## Generators in Python are a convenient way to create iterators. As generators are “lazy” (i.e., yield the needed item when requested), they’re very memory-efficient. "
   ]
  },
  {
   "cell_type": "code",
   "execution_count": 9,
   "metadata": {},
   "outputs": [
    {
     "name": "stdout",
     "output_type": "stream",
     "text": [
      "328350\n",
      "9801\n"
     ]
    }
   ],
   "source": [
    "a=sum(x**2 for x in range(100))\n",
    "print(a)\n",
    "b=max((x*x for x in range(100)))\n",
    "print(b)"
   ]
  },
  {
   "cell_type": "markdown",
   "metadata": {},
   "source": [
    "### Unpack a Tuple"
   ]
  },
  {
   "cell_type": "code",
   "execution_count": 2,
   "metadata": {},
   "outputs": [
    {
     "name": "stdout",
     "output_type": "stream",
     "text": [
      "zero\n",
      "['b', 'one', 10, 11]\n",
      "11 zero\n"
     ]
    }
   ],
   "source": [
    "items = (0, 'b', 'one', 10, 11, 'zero')\n",
    "a, b, c, d, e, f = items\n",
    "print(f)\n",
    "a, *b, c = items#*b assigns a list excepting the element at index 0 and -1\n",
    "print(b)\n",
    "*_, a, b = items\n",
    "print(a,b)#assigns only element at index -1 and -2\n"
   ]
  },
  {
   "cell_type": "markdown",
   "metadata": {},
   "source": [
    "### Enumerate in for loop"
   ]
  },
  {
   "cell_type": "markdown",
   "metadata": {},
   "source": [
    "# The enumerate() function takes in an iterable to create an iterator."
   ]
  },
  {
   "cell_type": "code",
   "execution_count": 4,
   "metadata": {},
   "outputs": [
    {
     "name": "stdout",
     "output_type": "stream",
     "text": [
      "Iteration: 0, Student: John\n",
      "Iteration: 1, Student: Mary\n",
      "Iteration: 2, Student: Mike\n",
      "**************************\n",
      "Student Name: John, Student ID #: 35001\n",
      "Student Name: Mary, Student ID #: 35002\n",
      "Student Name: Mike, Student ID #: 35003\n"
     ]
    }
   ],
   "source": [
    " students = ('John', 'Mary', 'Mike')\n",
    "for i, student in enumerate(students):\n",
    "     print(f'Iteration: {i}, Student: {student}')\n",
    "print(\"**************************\")        \n",
    "for i, student in enumerate(students, 35001):\n",
    "    print(f'Student Name: {student}, Student ID #: {i}')\n",
    "    "
   ]
  },
  {
   "cell_type": "markdown",
   "metadata": {},
   "source": [
    "### Use Reversed() In for Loops"
   ]
  },
  {
   "cell_type": "code",
   "execution_count": 7,
   "metadata": {},
   "outputs": [
    {
     "name": "stdout",
     "output_type": "stream",
     "text": [
      "cooking\n",
      "gardening\n",
      "picking up kids\n",
      "laundry\n"
     ]
    }
   ],
   "source": [
    "tasks = ['laundry', 'picking up kids', 'gardening', 'cooking']\n",
    "for task in reversed(tasks):\n",
    "    print(task)"
   ]
  },
  {
   "cell_type": "markdown",
   "metadata": {},
   "source": [
    "## The Zip() Function"
   ]
  },
  {
   "cell_type": "markdown",
   "metadata": {},
   "source": [
    "### The zip() function is useful to join multiple iterators on a one-to-one match basis. If certain iterators exceed the shortest one, they get truncated. This function returns an iterator, and thus it is frequently used in an iteration. We can also use the zip() function to unzip an iterator using the asterisk sign and assign the unzipped items to variables."
   ]
  },
  {
   "cell_type": "code",
   "execution_count": 9,
   "metadata": {},
   "outputs": [
    {
     "name": "stdout",
     "output_type": "stream",
     "text": [
      "John, age: 15, score: 90\n",
      "Mary, age: 17, score: 88\n",
      "Mike, age: 16, score: 82\n",
      "**************************************\n",
      "('John', 'Mary', 'Mike') \n",
      " (15, 17, 16) \n",
      " (90, 88, 82)\n"
     ]
    }
   ],
   "source": [
    "students = ('John', 'Mary', 'Mike')\n",
    "ages = (15, 17, 16)\n",
    "scores = (90, 88, 82, 17, 14)\n",
    "for student, age, score in zip(students, ages, scores):\n",
    "    print(f'{student}, age: {age}, score: {score}')\n",
    "print(\"**************************************\")\n",
    "zipped = zip(students, ages, scores)# zip all three\n",
    "a, b, c = zip(*zipped)#unzip\n",
    "print(a,\"\\n\",b,\"\\n\",c)\n",
    "    "
   ]
  },
  {
   "cell_type": "markdown",
   "metadata": {},
   "source": [
    "## Lambda Expression"
   ]
  },
  {
   "cell_type": "markdown",
   "metadata": {},
   "source": [
    "###  Lambdas are anonymous functions that can take multiple arguments with a single-line expression. One of its common usages is to set as the key argument in the sorted() function. Besides this, lambdas are often used in some functions (e.g., max(), map()) where a one-line expression is applicable to replace a regular function using the def keyword."
   ]
  },
  {
   "cell_type": "code",
   "execution_count": 12,
   "metadata": {},
   "outputs": [
    {
     "name": "stdout",
     "output_type": "stream",
     "text": [
      "[{'name': 'Mike', 'score': 94}, {'name': 'John', 'score': 98}, {'name': 'Jennifer', 'score': 99}]\n"
     ]
    }
   ],
   "source": [
    "students = [{'name': 'John', 'score': 98}, {'name': 'Mike', 'score': 94}, {'name': 'Jennifer', 'score': 99}]\n",
    "print(sorted(students, key=lambda x: x['score']))\n",
    "\n"
   ]
  },
  {
   "cell_type": "markdown",
   "metadata": {},
   "source": [
    "## Shorthand Conditional Assignment"
   ]
  },
  {
   "cell_type": "markdown",
   "metadata": {},
   "source": [
    "### This feature is mostly a syntax sugar. When you need to assign a value to a variable based on a certain condition, we can use a shorthand assignment using this general form: y = x if condition_met else another_x."
   ]
  },
  {
   "cell_type": "code",
   "execution_count": 14,
   "metadata": {},
   "outputs": [
    {
     "name": "stdout",
     "output_type": "stream",
     "text": [
      "x is 5\n",
      "x is 5\n"
     ]
    }
   ],
   "source": [
    "some_condition = True\n",
    "# the expanded format\n",
    "if some_condition:\n",
    "    x=5\n",
    "else:\n",
    "    x=3\n",
    "print(f'x is {x}')\n",
    "# the shorthand way\n",
    "x = 5 if some_condition else 3\n",
    "print(f'x is {x}')"
   ]
  },
  {
   "cell_type": "markdown",
   "metadata": {},
   "source": [
    "## Membership Testing in a Collection"
   ]
  },
  {
   "cell_type": "markdown",
   "metadata": {},
   "source": [
    "##### Sometimes, we need to test if a certain element exists in a collection before we want to apply the operations to the collection or the matched item. The idiomatic way is to use the in keyword."
   ]
  },
  {
   "cell_type": "code",
   "execution_count": 15,
   "metadata": {},
   "outputs": [
    {
     "name": "stdout",
     "output_type": "stream",
     "text": [
      "The tuple contains one.\n",
      "The dict has the key of 2.\n"
     ]
    }
   ],
   "source": [
    "a = ('one', 'two', 'three', 'four', 'five')\n",
    "if 'one' in a:\n",
    "     print('The tuple contains one.')\n",
    "b = {0: 'zero', 1: 'one', 2: 'two', 3: 'three'}\n",
    "if 2 in b.keys():\n",
    "     print('The dict has the key of 2.')\n",
    "    "
   ]
  },
  {
   "cell_type": "markdown",
   "metadata": {},
   "source": [
    "###  Use Get() to Retrieve a Value in a Dictionary"
   ]
  },
  {
   "cell_type": "markdown",
   "metadata": {},
   "source": [
    "#### We normally can specify the key in square brackets to retrieve the value for the key. However, it will raise an error when the key doesn’t exist in the dictionary. Certainly, we can use try/except to solve this issue. Instead, we can use the get() method that allows us to use a default value when the key isn’t in the dictionary."
   ]
  },
  {
   "cell_type": "code",
   "execution_count": 16,
   "metadata": {},
   "outputs": [
    {
     "data": {
      "text/plain": [
       "'five'"
      ]
     },
     "execution_count": 16,
     "metadata": {},
     "output_type": "execute_result"
    }
   ],
   "source": [
    "number_dict = {0: 'zero', 1: 'one', 2: 'two', 3: 'three'}\n",
    "#number_dict[5]# error\n",
    "number_dict.get(5, 'five')\n"
   ]
  },
  {
   "cell_type": "markdown",
   "metadata": {},
   "source": [
    "###  Get the Key Whose Value Is Maximal in a Dictionary"
   ]
  },
  {
   "cell_type": "markdown",
   "metadata": {},
   "source": [
    "#### For a dictionary, we sometimes need to find out the key whose value is maximal. We can first find out the maximal value’s index in a list of all the values, and then find the corresponding key from another list that stores all the keys. Alternatively, an easier way is to specify the key argument in the max() function.\n",
    "#### For simplicity, we don’t consider scenarios where the maximal values may have duplicates. Besides, the same approach can be applied to finding the key with minimal value using the min() function."
   ]
  },
  {
   "cell_type": "code",
   "execution_count": 17,
   "metadata": {},
   "outputs": [
    {
     "data": {
      "text/plain": [
       "'model_z'"
      ]
     },
     "execution_count": 17,
     "metadata": {},
     "output_type": "execute_result"
    }
   ],
   "source": [
    "model_scores = {'model_a': 100, 'model_z': 198, 'model_t': 150}\n",
    "# workaround\n",
    "keys, values = list(model_scores.keys()), list(model_scores.values())\n",
    "keys[values.index(max(values))]\n",
    "'model_z'\n",
    " # one-line\n",
    "max(model_scores, key=model_scores.get)\n",
    "'model_z'"
   ]
  },
  {
   "cell_type": "markdown",
   "metadata": {},
   "source": [
    "###  Debug With the Print() Function"
   ]
  },
  {
   "cell_type": "markdown",
   "metadata": {},
   "source": [
    "#### For smaller projects, we can always use the print() function to help us debug. We also use this function a lot for teaching purposes. There are a couple of tricks that we use frequently with the print() function. The first is to end the string other than the default newline, and the second is to use an f-string, which allows us to create a string containing some expressions."
   ]
  },
  {
   "cell_type": "code",
   "execution_count": 18,
   "metadata": {},
   "outputs": [
    {
     "name": "stdout",
     "output_type": "stream",
     "text": [
      "0, 1, 2, 3, 4\n",
      "********************\n",
      "0 & 0, 1 & 1, 2 & 4, 3 & 9, 4 & 16\n"
     ]
    }
   ],
   "source": [
    "for i in range(5):\n",
    "    print(i, end=', ' if i < 4 else '\\n')\n",
    "print(\"********************\")\n",
    "for i in range(5):\n",
    "     print(f'{i} & {i*i}', end=', ' if i < 4 else '\\n')\n",
    "    \n",
    "    "
   ]
  },
  {
   "cell_type": "markdown",
   "metadata": {},
   "source": [
    "###  Walrus Operator"
   ]
  },
  {
   "cell_type": "markdown",
   "metadata": {},
   "source": [
    "#### The walrus operator (:=) is a new feature available in Python 3.8+. It’s just another name for assignment expression — assignment to a variable within an expression. Usually, when an expression uses a variable, the variable has to be declared earlier. With the walrus operator, the variable assignment can be included in the expression, and the variable is available to use right away."
   ]
  },
  {
   "cell_type": "code",
   "execution_count": 21,
   "metadata": {},
   "outputs": [
    {
     "ename": "SyntaxError",
     "evalue": "invalid syntax (<ipython-input-21-1babf3f3bc89>, line 2)",
     "output_type": "error",
     "traceback": [
      "\u001b[1;36m  File \u001b[1;32m\"<ipython-input-21-1babf3f3bc89>\"\u001b[1;36m, line \u001b[1;32m2\u001b[0m\n\u001b[1;33m    if (n := len(a))%2 == 1:\u001b[0m\n\u001b[1;37m          ^\u001b[0m\n\u001b[1;31mSyntaxError\u001b[0m\u001b[1;31m:\u001b[0m invalid syntax\n"
     ]
    }
   ],
   "source": [
    "a = ['j', 'a', 'k', 'd', 'c']\n",
    "if (n := len(a))%2 == 1:\n",
    "      print(f'The number of letters is {n}, which is odd.')"
   ]
  },
  {
   "cell_type": "markdown",
   "metadata": {},
   "source": [
    "### Split a String"
   ]
  },
  {
   "cell_type": "code",
   "execution_count": 22,
   "metadata": {},
   "outputs": [
    {
     "name": "stdout",
     "output_type": "stream",
     "text": [
      "['this is', 'a python', 'tutorial', 'about', 'idioms.']\n",
      "['this is', 'a python', 'tutorial, about, idioms.']\n",
      "['this is', 'a python', 'tutorial', 'about', 'idioms.']\n",
      "['this is, a python, tutorial', 'about', 'idioms.']\n"
     ]
    }
   ],
   "source": [
    "sentence = 'this is, a python, tutorial, about, idioms.'\n",
    "print(sentence.split(', '))\n",
    "print(sentence.split(', ', 2))\n",
    "print(sentence.rsplit(', '))\n",
    "print(sentence.rsplit(', ', 2))"
   ]
  },
  {
   "cell_type": "markdown",
   "metadata": {},
   "source": [
    "### Join Strings in an Iterable"
   ]
  },
  {
   "cell_type": "markdown",
   "metadata": {},
   "source": [
    "#### When working with strings, we sometimes need to create a single string by joining a series of strings contained in an iterable (e.g., list, tuple). In this case, we can use the join() function that is called by the desired separator."
   ]
  },
  {
   "cell_type": "code",
   "execution_count": 23,
   "metadata": {},
   "outputs": [
    {
     "name": "stdout",
     "output_type": "stream",
     "text": [
      "Hello!Python!Programmers\n",
      "zero&one&two&three\n"
     ]
    }
   ],
   "source": [
    "words = ('Hello', 'Python', 'Programmers')\n",
    "print('!'.join(words))\n",
    "words_dict = {0: 'zero', 1: 'one', 2: 'two', 3: 'three'}\n",
    "print('&'.join(words_dict.values()))"
   ]
  },
  {
   "cell_type": "markdown",
   "metadata": {},
   "source": [
    "###  The Map() Function"
   ]
  },
  {
   "cell_type": "markdown",
   "metadata": {},
   "source": [
    "#### The map() function is a high-order function (i.e., a function that uses a function as an argument or returns a value as its output). It has a general format of map(function, iterables), which will apply the function to the iterable(s) and return a map object, which is an iterator. The number of iterables should match the number of needed arguments for the function.\n",
    "#### In the example below, the built-in pow() function expects two arguments. Certainly, a custom function can be used as well. As a side note, when we use the map() function to create a list, we can probably use the list comprehensions to achieve the same effect."
   ]
  },
  {
   "cell_type": "code",
   "execution_count": 24,
   "metadata": {},
   "outputs": [
    {
     "name": "stdout",
     "output_type": "stream",
     "text": [
      "[1, 2, 2.0, 36]\n",
      "[1, 2, 2.0, 36]\n"
     ]
    }
   ],
   "source": [
    "numbers = (1, 2, 4, 6)\n",
    "indices = (2, 1, 0.5, 2)\n",
    "# use map()\n",
    "print(list(map(pow, numbers, indices)))\n",
    "# list comprehensions\n",
    "print([pow(x, y) for x, y in zip(numbers, indices)])"
   ]
  },
  {
   "cell_type": "markdown",
   "metadata": {},
   "source": [
    "### The Filter() Function"
   ]
  },
  {
   "cell_type": "markdown",
   "metadata": {},
   "source": [
    "#### The filter() function is to filter a sequence using the specified function or lambda function. This function returns a filter object, which is an iterator. Overall, its usage is very similar to the map() function."
   ]
  },
  {
   "cell_type": "code",
   "execution_count": 26,
   "metadata": {},
   "outputs": [
    {
     "data": {
      "text/plain": [
       "['Presentation', 'preschool']"
      ]
     },
     "execution_count": 26,
     "metadata": {},
     "output_type": "execute_result"
    }
   ],
   "source": [
    " def good_word(x: str):\n",
    "        has_vowels = not set('aeiou').isdisjoint(x.lower())\n",
    "        long_enough = len(x) > 7\n",
    "        good_start = x.lower().startswith('pre')\n",
    "        return has_vowels & long_enough & good_start\n",
    "words = ['Good', 'Presentation', 'preschool', 'prefix']\n",
    "list(filter(good_word, words))"
   ]
  },
  {
   "cell_type": "markdown",
   "metadata": {},
   "source": [
    "###  Find Out the Most Frequent Element in a List"
   ]
  },
  {
   "cell_type": "markdown",
   "metadata": {},
   "source": [
    "####  When we use a list to record something that can have duplicate elements, say tracking the winners of a series of games, it’s a relevant task to find out who has won for the most times. It can be done by using the max() function by specifying the key argument, which will find out the maximal value by the count of the element in the set."
   ]
  },
  {
   "cell_type": "code",
   "execution_count": 27,
   "metadata": {},
   "outputs": [
    {
     "data": {
      "text/plain": [
       "'Billy'"
      ]
     },
     "execution_count": 27,
     "metadata": {},
     "output_type": "execute_result"
    }
   ],
   "source": [
    "winnings = ['John', 'Billy', 'Billy', 'Sam', 'Billy', 'John']\n",
    "max(set(winnings), key = winnings.count)\n"
   ]
  },
  {
   "cell_type": "markdown",
   "metadata": {},
   "source": [
    "###  Track the Frequencies of the Elements in a List"
   ]
  },
  {
   "cell_type": "markdown",
   "metadata": {},
   "source": [
    "#### Following up on the above example, we also want to know how non-champion players are doing for the contest such so we can find out the second and third places. To do that, we need to find out how many winnings each player has. We can use dictionary comprehension and the sorted() function with a lambda function."
   ]
  },
  {
   "cell_type": "code",
   "execution_count": 28,
   "metadata": {},
   "outputs": [
    {
     "data": {
      "text/plain": [
       "[('Billy', 3), ('John', 2), ('Sam', 1)]"
      ]
     },
     "execution_count": 28,
     "metadata": {},
     "output_type": "execute_result"
    }
   ],
   "source": [
    "winnings = ['John', 'Billy', 'Billy', 'Sam', 'Billy', 'John']\n",
    "tracked = {item: winnings.count(item) for item in set(winnings)}\n",
    "sorted(tracked.items(), key=lambda x: x[1], reverse=True)"
   ]
  },
  {
   "cell_type": "markdown",
   "metadata": {},
   "source": [
    "###  Check the Type of an Object\n",
    "#### Checking an object’s type is part of the introspection topic in Python. Sometimes, we need to know if an object is of a certain type before we apply the corresponding function. To do that, we can use the type() or isinstance() function, with the latter being a more flexible method that allows one-to-many checking."
   ]
  },
  {
   "cell_type": "code",
   "execution_count": 31,
   "metadata": {},
   "outputs": [
    {
     "name": "stdout",
     "output_type": "stream",
     "text": [
      "do something with an int\n",
      "do something with an int or float\n",
      "do something with an int or float\n"
     ]
    }
   ],
   "source": [
    " def check_type(number):\n",
    "        if type(number) == int:\n",
    "            print('do something with an int')\n",
    "        if isinstance(number, (int, float)):\n",
    "            print('do something with an int or float')\n",
    "check_type(5)\n",
    "check_type(4.2)"
   ]
  },
  {
   "cell_type": "markdown",
   "metadata": {},
   "source": [
    "### The Any() Function\n",
    "#### Suppose we have a list of records tracking John’s arrival time to the work. One use case is that we want to know if he has any late arrival this week, in which case, the any() function is very handy. This function returns True if any of the elements in a boolean list is True."
   ]
  },
  {
   "cell_type": "code",
   "execution_count": 32,
   "metadata": {},
   "outputs": [
    {
     "data": {
      "text/plain": [
       "True"
      ]
     },
     "execution_count": 32,
     "metadata": {},
     "output_type": "execute_result"
    }
   ],
   "source": [
    "arrival_hours = {'Mon': 8.5, 'Tue': 8.75, 'Wed': 9, 'Thu': 8.5, 'Fri': 8.5}\n",
    "arrival_checks = [x>8.75 for x in arrival_hours.values()]\n",
    "any(arrival_checks)"
   ]
  },
  {
   "cell_type": "markdown",
   "metadata": {},
   "source": [
    "### The All() Function"
   ]
  },
  {
   "cell_type": "markdown",
   "metadata": {},
   "source": [
    "#### Following up on the same example above, we also want to know if he arrived at the work always before 9:30 for the whole week. To test if it’s the case, we can use the all() function, which returns True only if all of the elements in a boolean list are True."
   ]
  },
  {
   "cell_type": "code",
   "execution_count": 33,
   "metadata": {},
   "outputs": [
    {
     "data": {
      "text/plain": [
       "False"
      ]
     },
     "execution_count": 33,
     "metadata": {},
     "output_type": "execute_result"
    }
   ],
   "source": [
    "arrival_checks_all = [x<9.5 for x in arrival_hours.values()]\n",
    "all(arrival_checks)"
   ]
  },
  {
   "cell_type": "markdown",
   "metadata": {},
   "source": [
    "### Use the With Keyword on a File"
   ]
  },
  {
   "cell_type": "code",
   "execution_count": 35,
   "metadata": {},
   "outputs": [
    {
     "data": {
      "text/plain": [
       "True"
      ]
     },
     "execution_count": 35,
     "metadata": {},
     "output_type": "execute_result"
    }
   ],
   "source": [
    "#the file will automatically get closed\n",
    "with open('SAF.txt') as file:\n",
    "        pass\n",
    "\n",
    "file.closed"
   ]
  },
  {
   "cell_type": "code",
   "execution_count": null,
   "metadata": {},
   "outputs": [],
   "source": []
  }
 ],
 "metadata": {
  "kernelspec": {
   "display_name": "Python 3",
   "language": "python",
   "name": "python3"
  },
  "language_info": {
   "codemirror_mode": {
    "name": "ipython",
    "version": 3
   },
   "file_extension": ".py",
   "mimetype": "text/x-python",
   "name": "python",
   "nbconvert_exporter": "python",
   "pygments_lexer": "ipython3",
   "version": "3.6.5"
  }
 },
 "nbformat": 4,
 "nbformat_minor": 2
}
