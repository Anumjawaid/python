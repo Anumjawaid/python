{
 "cells": [
  {
   "cell_type": "markdown",
   "metadata": {},
   "source": [
    "### slicing a sequence[list,tuple,array]"
   ]
  },
  {
   "cell_type": "code",
   "execution_count": 31,
   "metadata": {},
   "outputs": [
    {
     "name": "stdout",
     "output_type": "stream",
     "text": [
      "[6, 8, 10, 12, 14, 16, 18, 20]\n",
      "[2, 6, 10, 14]\n",
      "[0, 2, 4, 6, 8]\n",
      "[18, 20]\n",
      "[0, 2, 4, 6, 8, 10, 12, 14, 16, 18, 20]\n",
      "[0, 2, 4, 6, 8, 10, 12, 14, 16, 18]\n"
     ]
    }
   ],
   "source": [
    "a = [0, 2, 4, 6, 8, 10, 12, 14, 16, 18, 20]\n",
    "# Using a range, [start, end)\n",
    "print(a[3:])\n",
    "# Using a range with a step\n",
    "print(a[1:9:2])#[start,end,step]\n",
    "# Leave out the start = an implicit start of 0\n",
    "print(a[:5])\n",
    "# Leave out the stop = an implict end to the very last item\n",
    "print(a[9:])\n",
    "# Entire list\n",
    "print(a[:])\n",
    "#another method \n",
    "print(a[0:-1])\n"
   ]
  },
  {
   "cell_type": "markdown",
   "metadata": {},
   "source": [
    "### Reverse a Sequence"
   ]
  },
  {
   "cell_type": "code",
   "execution_count": 30,
   "metadata": {},
   "outputs": [
    {
     "name": "stdout",
     "output_type": "stream",
     "text": [
      "(5, 4, 3, 2, 1)\n",
      "trats\n"
     ]
    }
   ],
   "source": [
    "a = (1, 2, 3, 4, 5)\n",
    "print(a[::-1])\n",
    "b = 'start'\n",
    "print(b[::-1])"
   ]
  },
  {
   "cell_type": "markdown",
   "metadata": {},
   "source": [
    "### Access an Element in a Sequence Using the Reverse Index"
   ]
  },
  {
   "cell_type": "code",
   "execution_count": 35,
   "metadata": {},
   "outputs": [
    {
     "name": "stdout",
     "output_type": "stream",
     "text": [
      "!\n",
      "!\n",
      "WORLD\n"
     ]
    }
   ],
   "source": [
    "a=\"HELLO WORLD!\"\n",
    "print(a[len(a)-1])\n",
    "print(a[-1])\n",
    "#printworld from reverse index\n",
    "print(a[6:-1])"
   ]
  },
  {
   "cell_type": "markdown",
   "metadata": {},
   "source": [
    "### Multiple Assignments"
   ]
  },
  {
   "cell_type": "code",
   "execution_count": 38,
   "metadata": {},
   "outputs": [
    {
     "name": "stdout",
     "output_type": "stream",
     "text": [
      "a is 5; b is 8\n",
      "[5, 2, 3, 4, 1]\n"
     ]
    }
   ],
   "source": [
    "# instead of doing a = 8; b = 5\n",
    "a, b = 8, 5\n",
    "# Swap two variables\n",
    "a, b = b, a\n",
    "print(f'a is {a}; b is {b}')\n",
    " # Swap the first and last elements in a list\n",
    "numbers = [1, 2, 3, 4, 5]\n",
    "numbers[0],numbers[-1]=numbers[-1],numbers[0]\n",
    "print(numbers)"
   ]
  },
  {
   "cell_type": "markdown",
   "metadata": {},
   "source": [
    "### Check if a Sequence Is Empty "
   ]
  },
  {
   "cell_type": "code",
   "execution_count": 41,
   "metadata": {},
   "outputs": [
    {
     "name": "stdout",
     "output_type": "stream",
     "text": [
      "() with type <class 'tuple'> is empty\n",
      " with type <class 'str'> is empty\n",
      "[] with type <class 'list'> is empty\n",
      "{} with type <class 'dict'> is empty\n",
      "set() with type <class 'set'> is empty\n"
     ]
    }
   ],
   "source": [
    "empty_list = [(), '', [], {}, set()]\n",
    "for item in empty_list:\n",
    "    if not item:\n",
    "        print(f'{item} with type {type(item)} is empty')"
   ]
  },
  {
   "cell_type": "markdown",
   "metadata": {},
   "source": [
    "###  List Comprehensions"
   ]
  },
  {
   "cell_type": "code",
   "execution_count": 51,
   "metadata": {},
   "outputs": [
    {
     "name": "stdout",
     "output_type": "stream",
     "text": [
      "[2, 4, 6, 8, 10]\n",
      "[3, 9, 15]\n",
      "['ODD', 'EVEN', 'ODD', 'EVEN', 'ODD']\n"
     ]
    }
   ],
   "source": [
    "a = [1, 2, 3, 4, 5]\n",
    "print([x*2 for x in a])\n",
    "#if condition\n",
    "print([x*3 for x in a if x%2 == 1])\n",
    "#if else\n",
    "print(['EVEN' if x%2==0 else 'ODD' for x in a])\n"
   ]
  },
  {
   "cell_type": "markdown",
   "metadata": {},
   "source": [
    "### Set Comprehensions"
   ]
  },
  {
   "cell_type": "code",
   "execution_count": null,
   "metadata": {},
   "outputs": [],
   "source": []
  }
 ],
 "metadata": {
  "kernelspec": {
   "display_name": "Python 3",
   "language": "python",
   "name": "python3"
  },
  "language_info": {
   "codemirror_mode": {
    "name": "ipython",
    "version": 3
   },
   "file_extension": ".py",
   "mimetype": "text/x-python",
   "name": "python",
   "nbconvert_exporter": "python",
   "pygments_lexer": "ipython3",
   "version": "3.6.5"
  }
 },
 "nbformat": 4,
 "nbformat_minor": 2
}
